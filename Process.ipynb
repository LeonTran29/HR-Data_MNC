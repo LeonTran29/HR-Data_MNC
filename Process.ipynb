{
 "cells": [
  {
   "cell_type": "markdown",
   "id": "43c21ced",
   "metadata": {},
   "source": [
    "1. Introduction:\n",
    "\n",
    "Human Resource (HR) Data of a Multi-national Corporation (MNC)\n",
    "\n",
    "This dataset contains HR information for employees of a multinational corporation (MNC). It includes 2 Million (20 Lakhs) employee records with details about personal identifiers, job-related attributes, performance, employment status, and salary information.\n",
    "The dataset can be used for HR analytics, including workforce distribution, attrition analysis, salary trends, and performance evaluation.\n"
   ]
  },
  {
   "cell_type": "code",
   "execution_count": null,
   "id": "e28c4e6d",
   "metadata": {
    "vscode": {
     "languageId": "plaintext"
    }
   },
   "outputs": [],
   "source": [
    "2. ASK:\n",
    "\n",
    "What are the purposes of this analysis:\n",
    "- Workforce Distribution: Analyzing the demographics and structure of the workforce across different departments, locations, or roles. This could help management understand the composition of their staff and identify any imbalances.\n",
    "\n",
    "- Attrition Analysis: Studying employee turnover to understand why employees are leaving the company. By analyzing data on terminated employees, an organization can identify trends and potential root causes of attrition, such as low job satisfaction or poor management.\n",
    "\n",
    "- Salary Trends: Examining salary data to identify patterns, ensure fair compensation, and detect potential pay gaps. This can be used for benchmarking salaries against industry standards or for making informed decisions on compensation adjustments.\n",
    "\n",
    "- Performance Evaluation: Assessing employee performance to identify high-achievers, pinpoint areas for improvement, and link performance to other factors like salary or retention.\n",
    "\n",
    "And they will be achieved by answering these questions:\n",
    "\n",
    "Q.1) What is the distribution of Employee Status (Active, Resigned, Retired, Terminated) ?\n",
    "\n",
    "Q.2) What is the distribution of work modes (On-site, Remote) ?\n",
    "\n",
    "Q.3) How many employees are there in each department ?\n",
    "\n",
    "Q.4) What is the average salary by Department ?\n",
    "\n",
    "Q.5) Which job title has the highest average salary ?\n",
    "\n",
    "Q.6) What is the average salary in different Departments based on Job Title ?\n",
    "\n",
    "Q.7) How many employees Resigned & Terminated in each department ?\n",
    "\n",
    "Q.8) How does salary vary with years of experience ?\n",
    "\n",
    "Q.9) What is the average performance rating by department ?\n",
    "\n",
    "Q.10) Which Country have the highest concentration of employees ?\n",
    "\n",
    "Q.11) Is there a correlation between performance rating and salary ?\n",
    "\n",
    "Q.12) How has the number of hires changed over time (per year) ?\n",
    "\n",
    "Q.13) Compare salaries of Remote vs. On-site employees — is there a significant difference ?\n",
    "\n",
    "Q.14) Find the top 10 employees with the highest salary in each department.\n",
    "\n",
    "Q.15) Identify departments with the highest attrition rate (Resigned %)."
   ]
  },
  {
   "cell_type": "markdown",
   "id": "2e11f7b0",
   "metadata": {},
   "source": [
    "3. PREPARE:\n",
    "Setup library and import dataset"
   ]
  },
  {
   "cell_type": "markdown",
   "id": "33bf65bb",
   "metadata": {},
   "source": [
    "4. PROCESS:"
   ]
  },
  {
   "cell_type": "markdown",
   "id": "09cd7c13",
   "metadata": {},
   "source": [
    "5. ANALYSIS:"
   ]
  },
  {
   "cell_type": "markdown",
   "id": "a943dddd",
   "metadata": {},
   "source": [
    "6. SHARING & ACT:"
   ]
  }
 ],
 "metadata": {
  "language_info": {
   "name": "python"
  }
 },
 "nbformat": 4,
 "nbformat_minor": 5
}
