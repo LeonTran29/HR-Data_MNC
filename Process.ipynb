{
 "cells": [
  {
   "cell_type": "markdown",
   "id": "09664113",
   "metadata": {
    "_cell_guid": "7f143cbb-4611-4460-9420-7b87d981fbc9",
    "_uuid": "921c938c-0727-40a0-beac-ce1d15edf6a6",
    "collapsed": false,
    "jupyter": {
     "outputs_hidden": false
    },
    "papermill": {
     "duration": 0.004699,
     "end_time": "2025-08-27T17:02:15.619060",
     "exception": false,
     "start_time": "2025-08-27T17:02:15.614361",
     "status": "completed"
    },
    "tags": []
   },
   "source": [
    "1. Introduction:\n",
    "\n",
    "Human Resource (HR) Data of a Multi-national Corporation (MNC)\n",
    "\n",
    "This dataset contains HR information for employees of a multinational corporation (MNC). It includes 2 Million (20 Lakhs) employee records with details about personal identifiers, job-related attributes, performance, employment status, and salary information.\n",
    "The dataset can be used for HR analytics, including workforce distribution, attrition analysis, salary trends, and performance evaluation."
   ]
  },
  {
   "cell_type": "markdown",
   "id": "2f611d57",
   "metadata": {
    "_cell_guid": "4b7f0c77-1be6-4c0f-a325-a6c4fa982461",
    "_uuid": "1ffa88cc-d499-4f64-909c-553b8b76542e",
    "collapsed": false,
    "jupyter": {
     "outputs_hidden": false
    },
    "papermill": {
     "duration": 0.003584,
     "end_time": "2025-08-27T17:02:15.626722",
     "exception": false,
     "start_time": "2025-08-27T17:02:15.623138",
     "status": "completed"
    },
    "tags": []
   },
   "source": [
    "2. ASK:\n",
    "\n",
    "*What are the purposes of this analysis:*\n",
    "- Workforce Distribution: Analyzing the demographics and structure of the workforce across different departments, locations, or roles. This could help management understand the composition of their staff and identify any imbalances.\n",
    "\n",
    "- Attrition Analysis: Studying employee turnover to understand why employees are leaving the company. By analyzing data on terminated employees, an organization can identify trends and potential root causes of attrition, such as low job satisfaction or poor management.\n",
    "\n",
    "- Salary Trends: Examining salary data to identify patterns, ensure fair compensation, and detect potential pay gaps. This can be used for benchmarking salaries against industry standards or for making informed decisions on compensation adjustments.\n",
    "\n",
    "- Performance Evaluation: Assessing employee performance to identify high-achievers, pinpoint areas for improvement, and link performance to other factors like salary or retention.\n",
    "\n",
    "*And they will be achieved by answering these questions:*\n",
    "\n",
    "Q.1) What is the distribution of Employee Status (Active, Resigned, Retired, Terminated) ?\n",
    "\n",
    "Q.2) What is the distribution of work modes (On-site, Remote) ?\n",
    "\n",
    "Q.3) How many employees are there in each department ?\n",
    "\n",
    "Q.4) What is the average salary by Department ?\n",
    "\n",
    "Q.5) Which job title has the highest average salary ?\n",
    "\n",
    "Q.6) What is the average salary in different Departments based on Job Title ?\n",
    "\n",
    "Q.7) How many employees Resigned & Terminated in each department ?\n",
    "\n",
    "Q.8) How does salary vary with years of experience ?\n",
    "\n",
    "Q.9) What is the average performance rating by department ?\n",
    "\n",
    "Q.10) Which Country have the highest concentration of employees ?\n",
    "\n",
    "Q.11) Is there a correlation between performance rating and salary ?\n",
    "\n",
    "Q.12) How has the number of hires changed over time (per year) ?\n",
    "\n",
    "Q.13) Compare salaries of Remote vs. On-site employees — is there a significant difference ?\n",
    "\n",
    "Q.14) Find the top 10 employees with the highest salary in each department.\n",
    "\n",
    "Q.15) Identify departments with the highest attrition rate (Resigned %)."
   ]
  },
  {
   "cell_type": "markdown",
   "id": "e597bdce",
   "metadata": {
    "_cell_guid": "7e383011-456d-4754-ba4f-9143307aecc3",
    "_uuid": "e84eff07-58fd-4b35-9a42-c325aeaa2f86",
    "collapsed": false,
    "jupyter": {
     "outputs_hidden": false
    },
    "papermill": {
     "duration": 0.003493,
     "end_time": "2025-08-27T17:02:15.634130",
     "exception": false,
     "start_time": "2025-08-27T17:02:15.630637",
     "status": "completed"
    },
    "tags": []
   },
   "source": [
    "3. PREPARE:\n",
    "*Data observation:*\n",
    "- License: Database Contents License (DbCL) v1.0\n",
    "This dataset is highly permissive but no wanrranties of its accuracy, errors, fitness for purposes. Which means the dataset should be used only in practicing.\n",
    "- Validation Date: Last update was August 23, 2025.\n",
    "\n",
    "Process preparation:**\n",
    "Setup library and import dataset"
   ]
  },
  {
   "cell_type": "code",
   "execution_count": 1,
   "id": "15ad2d36",
   "metadata": {
    "_cell_guid": "39951934-5d62-4842-969a-c6bc1a3138d5",
    "_uuid": "8f98c394-73d5-4ff8-bcfa-e5f52b20f326",
    "collapsed": false,
    "execution": {
     "iopub.execute_input": "2025-08-27T17:02:15.643075Z",
     "iopub.status.busy": "2025-08-27T17:02:15.642698Z",
     "iopub.status.idle": "2025-08-27T17:02:23.293565Z",
     "shell.execute_reply": "2025-08-27T17:02:23.292579Z"
    },
    "jupyter": {
     "outputs_hidden": false
    },
    "papermill": {
     "duration": 7.657695,
     "end_time": "2025-08-27T17:02:23.295586",
     "exception": false,
     "start_time": "2025-08-27T17:02:15.637891",
     "status": "completed"
    },
    "tags": []
   },
   "outputs": [],
   "source": [
    "# Import Library\n",
    "import polars as pl\n",
    "import seaborn as sns\n",
    "import matplotlib.pyplot as plt\n",
    "import os\n",
    "\n",
    "from utils_polars import check_missing_values, check_information, check_duplicates, display_duplicates\n",
    "\n",
    "# Import dataset\n",
    "\n",
    "df = pl.read_csv(\"/kaggle/input/hr-data-mnc/HR_Data_MNC_Data Science Lovers.csv\")\n",
    "\n",
    "# USD & INR Relationship\n",
    "n = 87.63"
   ]
  },
  {
   "cell_type": "code",
   "execution_count": 2,
   "id": "c813cff4",
   "metadata": {
    "_cell_guid": "aed27843-3397-4caf-8962-506949354f5d",
    "_uuid": "0f0793a5-475d-4ac1-80d0-f0d07fc1203f",
    "collapsed": false,
    "execution": {
     "iopub.execute_input": "2025-08-27T17:02:23.305352Z",
     "iopub.status.busy": "2025-08-27T17:02:23.304915Z",
     "iopub.status.idle": "2025-08-27T17:02:24.629667Z",
     "shell.execute_reply": "2025-08-27T17:02:24.628590Z"
    },
    "jupyter": {
     "outputs_hidden": false
    },
    "papermill": {
     "duration": 1.331571,
     "end_time": "2025-08-27T17:02:24.631497",
     "exception": false,
     "start_time": "2025-08-27T17:02:23.299926",
     "status": "completed"
    },
    "tags": []
   },
   "outputs": [
    {
     "name": "stdout",
     "output_type": "stream",
     "text": [
      "Show dataframe structure\n",
      "---------------------------------------------------------\n"
     ]
    },
    {
     "data": {
      "text/html": [
       "<div><style>\n",
       ".dataframe > thead > tr,\n",
       ".dataframe > tbody > tr {\n",
       "  text-align: right;\n",
       "  white-space: pre-wrap;\n",
       "}\n",
       "</style>\n",
       "<small>shape: (50, 12)</small><table border=\"1\" class=\"dataframe\"><thead><tr><th>Unnamed: 0</th><th>Employee_ID</th><th>Full_Name</th><th>Department</th><th>Job_Title</th><th>Hire_Date</th><th>Location</th><th>Performance_Rating</th><th>Experience_Years</th><th>Status</th><th>Work_Mode</th><th>Salary_INR</th></tr><tr><td>i64</td><td>str</td><td>str</td><td>str</td><td>str</td><td>str</td><td>str</td><td>i64</td><td>i64</td><td>str</td><td>str</td><td>i64</td></tr></thead><tbody><tr><td>0</td><td>&quot;EMP0000001&quot;</td><td>&quot;Joshua Nguyen&quot;</td><td>&quot;IT&quot;</td><td>&quot;Software Engineer&quot;</td><td>&quot;2011-08-10&quot;</td><td>&quot;Isaacland, Denmark&quot;</td><td>5</td><td>14</td><td>&quot;Resigned&quot;</td><td>&quot;On-site&quot;</td><td>1585363</td></tr><tr><td>1</td><td>&quot;EMP0000002&quot;</td><td>&quot;Julie Williams&quot;</td><td>&quot;Marketing&quot;</td><td>&quot;SEO Specialist&quot;</td><td>&quot;2018-03-02&quot;</td><td>&quot;Anthonyside, Costa Rica&quot;</td><td>2</td><td>7</td><td>&quot;Active&quot;</td><td>&quot;On-site&quot;</td><td>847686</td></tr><tr><td>2</td><td>&quot;EMP0000003&quot;</td><td>&quot;Alyssa Martinez&quot;</td><td>&quot;HR&quot;</td><td>&quot;HR Manager&quot;</td><td>&quot;2023-03-20&quot;</td><td>&quot;Port Christinaport, Saudi Arab…</td><td>1</td><td>2</td><td>&quot;Active&quot;</td><td>&quot;On-site&quot;</td><td>1430084</td></tr><tr><td>3</td><td>&quot;EMP0000004&quot;</td><td>&quot;Nicholas Valdez&quot;</td><td>&quot;IT&quot;</td><td>&quot;Software Engineer&quot;</td><td>&quot;2023-10-12&quot;</td><td>&quot;Port Shelbychester, Antigua an…</td><td>1</td><td>1</td><td>&quot;Active&quot;</td><td>&quot;On-site&quot;</td><td>990689</td></tr><tr><td>4</td><td>&quot;EMP0000005&quot;</td><td>&quot;Joel Hendricks&quot;</td><td>&quot;Operations&quot;</td><td>&quot;Logistics Coordinator&quot;</td><td>&quot;2024-12-09&quot;</td><td>&quot;Lake Kimberly, Palestinian Ter…</td><td>5</td><td>0</td><td>&quot;Active&quot;</td><td>&quot;On-site&quot;</td><td>535082</td></tr><tr><td>&hellip;</td><td>&hellip;</td><td>&hellip;</td><td>&hellip;</td><td>&hellip;</td><td>&hellip;</td><td>&hellip;</td><td>&hellip;</td><td>&hellip;</td><td>&hellip;</td><td>&hellip;</td><td>&hellip;</td></tr><tr><td>45</td><td>&quot;EMP0000046&quot;</td><td>&quot;James Miller&quot;</td><td>&quot;Marketing&quot;</td><td>&quot;SEO Specialist&quot;</td><td>&quot;2022-03-24&quot;</td><td>&quot;Melissafurt, Brunei Darussalam&quot;</td><td>5</td><td>3</td><td>&quot;Active&quot;</td><td>&quot;Remote&quot;</td><td>768681</td></tr><tr><td>46</td><td>&quot;EMP0000047&quot;</td><td>&quot;Donna Estes&quot;</td><td>&quot;Operations&quot;</td><td>&quot;Operations Director&quot;</td><td>&quot;2011-06-15&quot;</td><td>&quot;East Tina, China&quot;</td><td>2</td><td>14</td><td>&quot;Active&quot;</td><td>&quot;On-site&quot;</td><td>982133</td></tr><tr><td>47</td><td>&quot;EMP0000048&quot;</td><td>&quot;Tom Mills&quot;</td><td>&quot;HR&quot;</td><td>&quot;HR Executive&quot;</td><td>&quot;2024-01-31&quot;</td><td>&quot;Johnsonside, Ghana&quot;</td><td>1</td><td>1</td><td>&quot;Active&quot;</td><td>&quot;Remote&quot;</td><td>565467</td></tr><tr><td>48</td><td>&quot;EMP0000049&quot;</td><td>&quot;Chad Newton&quot;</td><td>&quot;IT&quot;</td><td>&quot;DevOps Engineer&quot;</td><td>&quot;2015-10-15&quot;</td><td>&quot;South Jerryhaven, Mongolia&quot;</td><td>3</td><td>9</td><td>&quot;Resigned&quot;</td><td>&quot;Remote&quot;</td><td>709525</td></tr><tr><td>49</td><td>&quot;EMP0000050&quot;</td><td>&quot;Gary Charles&quot;</td><td>&quot;Operations&quot;</td><td>&quot;Supply Chain Manager&quot;</td><td>&quot;2024-09-25&quot;</td><td>&quot;Navarroberg, Switzerland&quot;</td><td>1</td><td>0</td><td>&quot;Active&quot;</td><td>&quot;On-site&quot;</td><td>459800</td></tr></tbody></table></div>"
      ],
      "text/plain": [
       "shape: (50, 12)\n",
       "┌───────────┬───────────┬───────────┬───────────┬───┬───────────┬──────────┬───────────┬───────────┐\n",
       "│ Unnamed:  ┆ Employee_ ┆ Full_Name ┆ Departmen ┆ … ┆ Experienc ┆ Status   ┆ Work_Mode ┆ Salary_IN │\n",
       "│ 0         ┆ ID        ┆ ---       ┆ t         ┆   ┆ e_Years   ┆ ---      ┆ ---       ┆ R         │\n",
       "│ ---       ┆ ---       ┆ str       ┆ ---       ┆   ┆ ---       ┆ str      ┆ str       ┆ ---       │\n",
       "│ i64       ┆ str       ┆           ┆ str       ┆   ┆ i64       ┆          ┆           ┆ i64       │\n",
       "╞═══════════╪═══════════╪═══════════╪═══════════╪═══╪═══════════╪══════════╪═══════════╪═══════════╡\n",
       "│ 0         ┆ EMP000000 ┆ Joshua    ┆ IT        ┆ … ┆ 14        ┆ Resigned ┆ On-site   ┆ 1585363   │\n",
       "│           ┆ 1         ┆ Nguyen    ┆           ┆   ┆           ┆          ┆           ┆           │\n",
       "│ 1         ┆ EMP000000 ┆ Julie     ┆ Marketing ┆ … ┆ 7         ┆ Active   ┆ On-site   ┆ 847686    │\n",
       "│           ┆ 2         ┆ Williams  ┆           ┆   ┆           ┆          ┆           ┆           │\n",
       "│ 2         ┆ EMP000000 ┆ Alyssa    ┆ HR        ┆ … ┆ 2         ┆ Active   ┆ On-site   ┆ 1430084   │\n",
       "│           ┆ 3         ┆ Martinez  ┆           ┆   ┆           ┆          ┆           ┆           │\n",
       "│ 3         ┆ EMP000000 ┆ Nicholas  ┆ IT        ┆ … ┆ 1         ┆ Active   ┆ On-site   ┆ 990689    │\n",
       "│           ┆ 4         ┆ Valdez    ┆           ┆   ┆           ┆          ┆           ┆           │\n",
       "│ 4         ┆ EMP000000 ┆ Joel      ┆ Operation ┆ … ┆ 0         ┆ Active   ┆ On-site   ┆ 535082    │\n",
       "│           ┆ 5         ┆ Hendricks ┆ s         ┆   ┆           ┆          ┆           ┆           │\n",
       "│ …         ┆ …         ┆ …         ┆ …         ┆ … ┆ …         ┆ …        ┆ …         ┆ …         │\n",
       "│ 45        ┆ EMP000004 ┆ James     ┆ Marketing ┆ … ┆ 3         ┆ Active   ┆ Remote    ┆ 768681    │\n",
       "│           ┆ 6         ┆ Miller    ┆           ┆   ┆           ┆          ┆           ┆           │\n",
       "│ 46        ┆ EMP000004 ┆ Donna     ┆ Operation ┆ … ┆ 14        ┆ Active   ┆ On-site   ┆ 982133    │\n",
       "│           ┆ 7         ┆ Estes     ┆ s         ┆   ┆           ┆          ┆           ┆           │\n",
       "│ 47        ┆ EMP000004 ┆ Tom Mills ┆ HR        ┆ … ┆ 1         ┆ Active   ┆ Remote    ┆ 565467    │\n",
       "│           ┆ 8         ┆           ┆           ┆   ┆           ┆          ┆           ┆           │\n",
       "│ 48        ┆ EMP000004 ┆ Chad      ┆ IT        ┆ … ┆ 9         ┆ Resigned ┆ Remote    ┆ 709525    │\n",
       "│           ┆ 9         ┆ Newton    ┆           ┆   ┆           ┆          ┆           ┆           │\n",
       "│ 49        ┆ EMP000005 ┆ Gary      ┆ Operation ┆ … ┆ 0         ┆ Active   ┆ On-site   ┆ 459800    │\n",
       "│           ┆ 0         ┆ Charles   ┆ s         ┆   ┆           ┆          ┆           ┆           │\n",
       "└───────────┴───────────┴───────────┴───────────┴───┴───────────┴──────────┴───────────┴───────────┘"
      ]
     },
     "metadata": {},
     "output_type": "display_data"
    },
    {
     "name": "stdout",
     "output_type": "stream",
     "text": [
      "check_missing_values\n",
      "---------------------------------------------------------\n"
     ]
    },
    {
     "data": {
      "text/html": [
       "<div><style>\n",
       ".dataframe > thead > tr,\n",
       ".dataframe > tbody > tr {\n",
       "  text-align: right;\n",
       "  white-space: pre-wrap;\n",
       "}\n",
       "</style>\n",
       "<small>shape: (1, 12)</small><table border=\"1\" class=\"dataframe\"><thead><tr><th>Unnamed: 0</th><th>Employee_ID</th><th>Full_Name</th><th>Department</th><th>Job_Title</th><th>Hire_Date</th><th>Location</th><th>Performance_Rating</th><th>Experience_Years</th><th>Status</th><th>Work_Mode</th><th>Salary_INR</th></tr><tr><td>u32</td><td>u32</td><td>u32</td><td>u32</td><td>u32</td><td>u32</td><td>u32</td><td>u32</td><td>u32</td><td>u32</td><td>u32</td><td>u32</td></tr></thead><tbody><tr><td>0</td><td>0</td><td>0</td><td>0</td><td>0</td><td>0</td><td>0</td><td>0</td><td>0</td><td>0</td><td>0</td><td>0</td></tr></tbody></table></div>"
      ],
      "text/plain": [
       "shape: (1, 12)\n",
       "┌────────────┬────────────┬───────────┬───────────┬───┬───────────┬────────┬───────────┬───────────┐\n",
       "│ Unnamed: 0 ┆ Employee_I ┆ Full_Name ┆ Departmen ┆ … ┆ Experienc ┆ Status ┆ Work_Mode ┆ Salary_IN │\n",
       "│ ---        ┆ D          ┆ ---       ┆ t         ┆   ┆ e_Years   ┆ ---    ┆ ---       ┆ R         │\n",
       "│ u32        ┆ ---        ┆ u32       ┆ ---       ┆   ┆ ---       ┆ u32    ┆ u32       ┆ ---       │\n",
       "│            ┆ u32        ┆           ┆ u32       ┆   ┆ u32       ┆        ┆           ┆ u32       │\n",
       "╞════════════╪════════════╪═══════════╪═══════════╪═══╪═══════════╪════════╪═══════════╪═══════════╡\n",
       "│ 0          ┆ 0          ┆ 0         ┆ 0         ┆ … ┆ 0         ┆ 0      ┆ 0         ┆ 0         │\n",
       "└────────────┴────────────┴───────────┴───────────┴───┴───────────┴────────┴───────────┴───────────┘"
      ]
     },
     "metadata": {},
     "output_type": "display_data"
    },
    {
     "name": "stdout",
     "output_type": "stream",
     "text": [
      "check_information\n",
      "---------------------------------------------------------\n"
     ]
    },
    {
     "data": {
      "text/html": [
       "<div><style>\n",
       ".dataframe > thead > tr,\n",
       ".dataframe > tbody > tr {\n",
       "  text-align: right;\n",
       "  white-space: pre-wrap;\n",
       "}\n",
       "</style>\n",
       "<small>shape: (9, 13)</small><table border=\"1\" class=\"dataframe\"><thead><tr><th>statistic</th><th>Unnamed: 0</th><th>Employee_ID</th><th>Full_Name</th><th>Department</th><th>Job_Title</th><th>Hire_Date</th><th>Location</th><th>Performance_Rating</th><th>Experience_Years</th><th>Status</th><th>Work_Mode</th><th>Salary_INR</th></tr><tr><td>str</td><td>f64</td><td>str</td><td>str</td><td>str</td><td>str</td><td>str</td><td>str</td><td>f64</td><td>f64</td><td>str</td><td>str</td><td>f64</td></tr></thead><tbody><tr><td>&quot;count&quot;</td><td>2e6</td><td>&quot;2000000&quot;</td><td>&quot;2000000&quot;</td><td>&quot;2000000&quot;</td><td>&quot;2000000&quot;</td><td>&quot;2000000&quot;</td><td>&quot;2000000&quot;</td><td>2e6</td><td>2e6</td><td>&quot;2000000&quot;</td><td>&quot;2000000&quot;</td><td>2e6</td></tr><tr><td>&quot;null_count&quot;</td><td>0.0</td><td>&quot;0&quot;</td><td>&quot;0&quot;</td><td>&quot;0&quot;</td><td>&quot;0&quot;</td><td>&quot;0&quot;</td><td>&quot;0&quot;</td><td>0.0</td><td>0.0</td><td>&quot;0&quot;</td><td>&quot;0&quot;</td><td>0.0</td></tr><tr><td>&quot;mean&quot;</td><td>999999.5</td><td>null</td><td>null</td><td>null</td><td>null</td><td>null</td><td>null</td><td>3.0001485</td><td>5.010287</td><td>null</td><td>null</td><td>896887.755664</td></tr><tr><td>&quot;std&quot;</td><td>577350.413527</td><td>null</td><td>null</td><td>null</td><td>null</td><td>null</td><td>null</td><td>1.413973</td><td>3.608823</td><td>null</td><td>null</td><td>402610.304438</td></tr><tr><td>&quot;min&quot;</td><td>0.0</td><td>&quot;EMP0000001&quot;</td><td>&quot;Aaron Abbott&quot;</td><td>&quot;Finance&quot;</td><td>&quot;Account Manager&quot;</td><td>&quot;2010-08-14&quot;</td><td>&quot;Aaronberg, Anguilla&quot;</td><td>1.0</td><td>0.0</td><td>&quot;Active&quot;</td><td>&quot;On-site&quot;</td><td>300000.0</td></tr><tr><td>&quot;25%&quot;</td><td>500000.0</td><td>null</td><td>null</td><td>null</td><td>null</td><td>null</td><td>null</td><td>2.0</td><td>2.0</td><td>null</td><td>null</td><td>616346.0</td></tr><tr><td>&quot;50%&quot;</td><td>1e6</td><td>null</td><td>null</td><td>null</td><td>null</td><td>null</td><td>null</td><td>3.0</td><td>5.0</td><td>null</td><td>null</td><td>811027.0</td></tr><tr><td>&quot;75%&quot;</td><td>1.499999e6</td><td>null</td><td>null</td><td>null</td><td>null</td><td>null</td><td>null</td><td>4.0</td><td>8.0</td><td>null</td><td>null</td><td>1.073745e6</td></tr><tr><td>&quot;max&quot;</td><td>1.999999e6</td><td>&quot;EMP2000000&quot;</td><td>&quot;Zoe Zimmerman&quot;</td><td>&quot;Sales&quot;</td><td>&quot;Talent Acquisition Specialist&quot;</td><td>&quot;2025-08-13&quot;</td><td>&quot;Zunigaville, Zambia&quot;</td><td>5.0</td><td>15.0</td><td>&quot;Terminated&quot;</td><td>&quot;Remote&quot;</td><td>2.999976e6</td></tr></tbody></table></div>"
      ],
      "text/plain": [
       "shape: (9, 13)\n",
       "┌───────────┬───────────┬───────────┬───────────┬───┬───────────┬───────────┬───────────┬──────────┐\n",
       "│ statistic ┆ Unnamed:  ┆ Employee_ ┆ Full_Name ┆ … ┆ Experienc ┆ Status    ┆ Work_Mode ┆ Salary_I │\n",
       "│ ---       ┆ 0         ┆ ID        ┆ ---       ┆   ┆ e_Years   ┆ ---       ┆ ---       ┆ NR       │\n",
       "│ str       ┆ ---       ┆ ---       ┆ str       ┆   ┆ ---       ┆ str       ┆ str       ┆ ---      │\n",
       "│           ┆ f64       ┆ str       ┆           ┆   ┆ f64       ┆           ┆           ┆ f64      │\n",
       "╞═══════════╪═══════════╪═══════════╪═══════════╪═══╪═══════════╪═══════════╪═══════════╪══════════╡\n",
       "│ count     ┆ 2e6       ┆ 2000000   ┆ 2000000   ┆ … ┆ 2e6       ┆ 2000000   ┆ 2000000   ┆ 2e6      │\n",
       "│ null_coun ┆ 0.0       ┆ 0         ┆ 0         ┆ … ┆ 0.0       ┆ 0         ┆ 0         ┆ 0.0      │\n",
       "│ t         ┆           ┆           ┆           ┆   ┆           ┆           ┆           ┆          │\n",
       "│ mean      ┆ 999999.5  ┆ null      ┆ null      ┆ … ┆ 5.010287  ┆ null      ┆ null      ┆ 896887.7 │\n",
       "│           ┆           ┆           ┆           ┆   ┆           ┆           ┆           ┆ 55664    │\n",
       "│ std       ┆ 577350.41 ┆ null      ┆ null      ┆ … ┆ 3.608823  ┆ null      ┆ null      ┆ 402610.3 │\n",
       "│           ┆ 3527      ┆           ┆           ┆   ┆           ┆           ┆           ┆ 04438    │\n",
       "│ min       ┆ 0.0       ┆ EMP000000 ┆ Aaron     ┆ … ┆ 0.0       ┆ Active    ┆ On-site   ┆ 300000.0 │\n",
       "│           ┆           ┆ 1         ┆ Abbott    ┆   ┆           ┆           ┆           ┆          │\n",
       "│ 25%       ┆ 500000.0  ┆ null      ┆ null      ┆ … ┆ 2.0       ┆ null      ┆ null      ┆ 616346.0 │\n",
       "│ 50%       ┆ 1e6       ┆ null      ┆ null      ┆ … ┆ 5.0       ┆ null      ┆ null      ┆ 811027.0 │\n",
       "│ 75%       ┆ 1.499999e ┆ null      ┆ null      ┆ … ┆ 8.0       ┆ null      ┆ null      ┆ 1.073745 │\n",
       "│           ┆ 6         ┆           ┆           ┆   ┆           ┆           ┆           ┆ e6       │\n",
       "│ max       ┆ 1.999999e ┆ EMP200000 ┆ Zoe       ┆ … ┆ 15.0      ┆ Terminate ┆ Remote    ┆ 2.999976 │\n",
       "│           ┆ 6         ┆ 0         ┆ Zimmerman ┆   ┆           ┆ d         ┆           ┆ e6       │\n",
       "└───────────┴───────────┴───────────┴───────────┴───┴───────────┴───────────┴───────────┴──────────┘"
      ]
     },
     "metadata": {},
     "output_type": "display_data"
    },
    {
     "name": "stdout",
     "output_type": "stream",
     "text": [
      "check_duplicates\n"
     ]
    },
    {
     "data": {
      "text/plain": [
       "0"
      ]
     },
     "metadata": {},
     "output_type": "display_data"
    },
    {
     "name": "stdout",
     "output_type": "stream",
     "text": [
      "No duplicate rows found.\n"
     ]
    }
   ],
   "source": [
    "print(\"Show dataframe structure\")\n",
    "print(\"---------------------------------------------------------\")\n",
    "display(df.head(50))\n",
    "print(\"check_missing_values\")\n",
    "print(\"---------------------------------------------------------\")\n",
    "display(df.null_count())\n",
    "print(\"check_information\")\n",
    "print(\"---------------------------------------------------------\")\n",
    "display(df.describe())\n",
    "print(\"check_duplicates\")\n",
    "duplicates = df.is_duplicated().sum() #May also be used with df.unique(subset = ['column'])\n",
    "display(duplicates)\n",
    "if duplicates > 0:\n",
    "        print(f\"Duplicate rows found: {duplicates}\")\n",
    "else:\n",
    "        print(\"No duplicate rows found.\")"
   ]
  },
  {
   "cell_type": "markdown",
   "id": "bda64363",
   "metadata": {
    "_cell_guid": "f5eb0a1d-aa1c-4042-a68e-7fcaa657790e",
    "_uuid": "905a2593-f945-402f-ba09-e695b1a9508e",
    "collapsed": false,
    "jupyter": {
     "outputs_hidden": false
    },
    "papermill": {
     "duration": 0.004494,
     "end_time": "2025-08-27T17:02:24.641495",
     "exception": false,
     "start_time": "2025-08-27T17:02:24.637001",
     "status": "completed"
    },
    "tags": []
   },
   "source": [
    "*Initial Data Exploration:*\n",
    "1) Unnamed: 0 – Index column (auto-generated, not useful for analysis, will be deleted).\n",
    "2) Employee_ID – Unique identifier assigned to each employee (e.g., EMP0000001).\n",
    "3) Full_Name – Full name of the employee.\n",
    "4) Department – Department in which the employee works (e.g., IT, HR, Marketing, Operations).\n",
    "5) Job_Title – Designation or role of the employee (e.g., Software Engineer, HR Manager).\n",
    "6) Hire_Date – The date when the employee was hired by the company.\n",
    "7) Location – Geographical location of the employee (city, country).\n",
    "8) Performance_Rating – Performance evaluation score (numeric scale, higher is better).\n",
    "9) Experience_Years – Number of years of professional experience the employee has.\n",
    "10) Status – Current employment status (e.g., Active, Resigned).\n",
    "11) Work_Mode – Mode of working (e.g., On-site, Hybrid, Remote).\n",
    "12) Salary_INR – Annual salary of the employee in Indian Rupees.\n",
    "\n",
    "*Data Cleaning*\n",
    "With the above checking of missing values, duplications, data input consistence, column name. No problem is found."
   ]
  },
  {
   "cell_type": "markdown",
   "id": "1a6368a1",
   "metadata": {
    "_cell_guid": "1fb57609-c46f-4052-970f-fa9303e59ae0",
    "_uuid": "85df7914-82b8-4351-8ffe-8a72a74aba58",
    "collapsed": false,
    "jupyter": {
     "outputs_hidden": false
    },
    "papermill": {
     "duration": 0.004408,
     "end_time": "2025-08-27T17:02:24.650598",
     "exception": false,
     "start_time": "2025-08-27T17:02:24.646190",
     "status": "completed"
    },
    "tags": []
   },
   "source": [
    "4. PROCESS:"
   ]
  },
  {
   "cell_type": "code",
   "execution_count": 3,
   "id": "e7fcc3d1",
   "metadata": {
    "_cell_guid": "0c7b50cf-f276-48f7-933c-86dfd66a61af",
    "_uuid": "67119dfe-ca3f-496f-a467-4df1ce21b821",
    "collapsed": false,
    "execution": {
     "iopub.execute_input": "2025-08-27T17:02:24.661332Z",
     "iopub.status.busy": "2025-08-27T17:02:24.661026Z",
     "iopub.status.idle": "2025-08-27T17:02:24.897173Z",
     "shell.execute_reply": "2025-08-27T17:02:24.896435Z"
    },
    "jupyter": {
     "outputs_hidden": false
    },
    "papermill": {
     "duration": 0.243599,
     "end_time": "2025-08-27T17:02:24.898868",
     "exception": false,
     "start_time": "2025-08-27T17:02:24.655269",
     "status": "completed"
    },
    "tags": []
   },
   "outputs": [],
   "source": [
    "df = df.with_columns([\n",
    "    pl.col(\"Hire_Date\").str.to_date(),\n",
    "    pl.col('Salary_INR').cast(pl.Float64)\n",
    "])"
   ]
  },
  {
   "cell_type": "code",
   "execution_count": 4,
   "id": "0572fec7",
   "metadata": {
    "_cell_guid": "d4cf6f19-f136-4ca3-92b3-6a4f5ddc5f96",
    "_uuid": "3541b2f7-9ab0-474c-b87c-3ed636bfffff",
    "collapsed": false,
    "execution": {
     "iopub.execute_input": "2025-08-27T17:02:24.910862Z",
     "iopub.status.busy": "2025-08-27T17:02:24.910549Z",
     "iopub.status.idle": "2025-08-27T17:02:26.925637Z",
     "shell.execute_reply": "2025-08-27T17:02:26.924447Z"
    },
    "jupyter": {
     "outputs_hidden": false
    },
    "papermill": {
     "duration": 2.022584,
     "end_time": "2025-08-27T17:02:26.927361",
     "exception": false,
     "start_time": "2025-08-27T17:02:24.904777",
     "status": "completed"
    },
    "tags": []
   },
   "outputs": [
    {
     "data": {
      "text/html": [
       "<div><style>\n",
       ".dataframe > thead > tr,\n",
       ".dataframe > tbody > tr {\n",
       "  text-align: right;\n",
       "  white-space: pre-wrap;\n",
       "}\n",
       "</style>\n",
       "<small>shape: (2_000_000, 12)</small><table border=\"1\" class=\"dataframe\"><thead><tr><th>Unnamed: 0</th><th>Employee_ID</th><th>Full_Name</th><th>Department</th><th>Job_Title</th><th>Hire_Date</th><th>Location</th><th>Performance_Rating</th><th>Experience_Years</th><th>Status</th><th>Work_Mode</th><th>Salary_INR</th></tr><tr><td>i64</td><td>str</td><td>str</td><td>str</td><td>str</td><td>date</td><td>str</td><td>i64</td><td>i64</td><td>str</td><td>str</td><td>f64</td></tr></thead><tbody><tr><td>0</td><td>&quot;EMP0000001&quot;</td><td>&quot;Joshua Nguyen&quot;</td><td>&quot;IT&quot;</td><td>&quot;Software Engineer&quot;</td><td>2011-08-10</td><td>&quot;Isaacland, Denmark&quot;</td><td>5</td><td>14</td><td>&quot;Resigned&quot;</td><td>&quot;On-site&quot;</td><td>1.585363e6</td></tr><tr><td>1</td><td>&quot;EMP0000002&quot;</td><td>&quot;Julie Williams&quot;</td><td>&quot;Marketing&quot;</td><td>&quot;SEO Specialist&quot;</td><td>2018-03-02</td><td>&quot;Anthonyside, Costa Rica&quot;</td><td>2</td><td>7</td><td>&quot;Active&quot;</td><td>&quot;On-site&quot;</td><td>847686.0</td></tr><tr><td>2</td><td>&quot;EMP0000003&quot;</td><td>&quot;Alyssa Martinez&quot;</td><td>&quot;HR&quot;</td><td>&quot;HR Manager&quot;</td><td>2023-03-20</td><td>&quot;Port Christinaport, Saudi Arab…</td><td>1</td><td>2</td><td>&quot;Active&quot;</td><td>&quot;On-site&quot;</td><td>1.430084e6</td></tr><tr><td>3</td><td>&quot;EMP0000004&quot;</td><td>&quot;Nicholas Valdez&quot;</td><td>&quot;IT&quot;</td><td>&quot;Software Engineer&quot;</td><td>2023-10-12</td><td>&quot;Port Shelbychester, Antigua an…</td><td>1</td><td>1</td><td>&quot;Active&quot;</td><td>&quot;On-site&quot;</td><td>990689.0</td></tr><tr><td>4</td><td>&quot;EMP0000005&quot;</td><td>&quot;Joel Hendricks&quot;</td><td>&quot;Operations&quot;</td><td>&quot;Logistics Coordinator&quot;</td><td>2024-12-09</td><td>&quot;Lake Kimberly, Palestinian Ter…</td><td>5</td><td>0</td><td>&quot;Active&quot;</td><td>&quot;On-site&quot;</td><td>535082.0</td></tr><tr><td>&hellip;</td><td>&hellip;</td><td>&hellip;</td><td>&hellip;</td><td>&hellip;</td><td>&hellip;</td><td>&hellip;</td><td>&hellip;</td><td>&hellip;</td><td>&hellip;</td><td>&hellip;</td><td>&hellip;</td></tr><tr><td>1999995</td><td>&quot;EMP1999996&quot;</td><td>&quot;Cody Russell&quot;</td><td>&quot;Operations&quot;</td><td>&quot;Logistics Coordinator&quot;</td><td>2010-08-31</td><td>&quot;Casefurt, Serbia&quot;</td><td>3</td><td>14</td><td>&quot;Active&quot;</td><td>&quot;Remote&quot;</td><td>657648.0</td></tr><tr><td>1999996</td><td>&quot;EMP1999997&quot;</td><td>&quot;Tracey Smith&quot;</td><td>&quot;IT&quot;</td><td>&quot;Software Engineer&quot;</td><td>2021-05-07</td><td>&quot;Dannyport, Kuwait&quot;</td><td>3</td><td>4</td><td>&quot;Active&quot;</td><td>&quot;On-site&quot;</td><td>1.030109e6</td></tr><tr><td>1999997</td><td>&quot;EMP1999998&quot;</td><td>&quot;Tracy Lee&quot;</td><td>&quot;Sales&quot;</td><td>&quot;Business Development Manager&quot;</td><td>2024-05-29</td><td>&quot;Craighaven, Nigeria&quot;</td><td>5</td><td>1</td><td>&quot;Active&quot;</td><td>&quot;Remote&quot;</td><td>1.313085e6</td></tr><tr><td>1999998</td><td>&quot;EMP1999999&quot;</td><td>&quot;Michael Roberson&quot;</td><td>&quot;IT&quot;</td><td>&quot;Software Engineer&quot;</td><td>2023-02-14</td><td>&quot;Jonathanmouth, Djibouti&quot;</td><td>4</td><td>2</td><td>&quot;Retired&quot;</td><td>&quot;On-site&quot;</td><td>1.479727e6</td></tr><tr><td>1999999</td><td>&quot;EMP2000000&quot;</td><td>&quot;Angela Lambert&quot;</td><td>&quot;HR&quot;</td><td>&quot;Talent Acquisition Specialist&quot;</td><td>2020-11-11</td><td>&quot;Morganchester, Canada&quot;</td><td>1</td><td>4</td><td>&quot;Active&quot;</td><td>&quot;Remote&quot;</td><td>993718.0</td></tr></tbody></table></div>"
      ],
      "text/plain": [
       "shape: (2_000_000, 12)\n",
       "┌───────────┬───────────┬───────────┬───────────┬───┬───────────┬──────────┬───────────┬───────────┐\n",
       "│ Unnamed:  ┆ Employee_ ┆ Full_Name ┆ Departmen ┆ … ┆ Experienc ┆ Status   ┆ Work_Mode ┆ Salary_IN │\n",
       "│ 0         ┆ ID        ┆ ---       ┆ t         ┆   ┆ e_Years   ┆ ---      ┆ ---       ┆ R         │\n",
       "│ ---       ┆ ---       ┆ str       ┆ ---       ┆   ┆ ---       ┆ str      ┆ str       ┆ ---       │\n",
       "│ i64       ┆ str       ┆           ┆ str       ┆   ┆ i64       ┆          ┆           ┆ f64       │\n",
       "╞═══════════╪═══════════╪═══════════╪═══════════╪═══╪═══════════╪══════════╪═══════════╪═══════════╡\n",
       "│ 0         ┆ EMP000000 ┆ Joshua    ┆ IT        ┆ … ┆ 14        ┆ Resigned ┆ On-site   ┆ 1.585363e │\n",
       "│           ┆ 1         ┆ Nguyen    ┆           ┆   ┆           ┆          ┆           ┆ 6         │\n",
       "│ 1         ┆ EMP000000 ┆ Julie     ┆ Marketing ┆ … ┆ 7         ┆ Active   ┆ On-site   ┆ 847686.0  │\n",
       "│           ┆ 2         ┆ Williams  ┆           ┆   ┆           ┆          ┆           ┆           │\n",
       "│ 2         ┆ EMP000000 ┆ Alyssa    ┆ HR        ┆ … ┆ 2         ┆ Active   ┆ On-site   ┆ 1.430084e │\n",
       "│           ┆ 3         ┆ Martinez  ┆           ┆   ┆           ┆          ┆           ┆ 6         │\n",
       "│ 3         ┆ EMP000000 ┆ Nicholas  ┆ IT        ┆ … ┆ 1         ┆ Active   ┆ On-site   ┆ 990689.0  │\n",
       "│           ┆ 4         ┆ Valdez    ┆           ┆   ┆           ┆          ┆           ┆           │\n",
       "│ 4         ┆ EMP000000 ┆ Joel      ┆ Operation ┆ … ┆ 0         ┆ Active   ┆ On-site   ┆ 535082.0  │\n",
       "│           ┆ 5         ┆ Hendricks ┆ s         ┆   ┆           ┆          ┆           ┆           │\n",
       "│ …         ┆ …         ┆ …         ┆ …         ┆ … ┆ …         ┆ …        ┆ …         ┆ …         │\n",
       "│ 1999995   ┆ EMP199999 ┆ Cody      ┆ Operation ┆ … ┆ 14        ┆ Active   ┆ Remote    ┆ 657648.0  │\n",
       "│           ┆ 6         ┆ Russell   ┆ s         ┆   ┆           ┆          ┆           ┆           │\n",
       "│ 1999996   ┆ EMP199999 ┆ Tracey    ┆ IT        ┆ … ┆ 4         ┆ Active   ┆ On-site   ┆ 1.030109e │\n",
       "│           ┆ 7         ┆ Smith     ┆           ┆   ┆           ┆          ┆           ┆ 6         │\n",
       "│ 1999997   ┆ EMP199999 ┆ Tracy Lee ┆ Sales     ┆ … ┆ 1         ┆ Active   ┆ Remote    ┆ 1.313085e │\n",
       "│           ┆ 8         ┆           ┆           ┆   ┆           ┆          ┆           ┆ 6         │\n",
       "│ 1999998   ┆ EMP199999 ┆ Michael   ┆ IT        ┆ … ┆ 2         ┆ Retired  ┆ On-site   ┆ 1.479727e │\n",
       "│           ┆ 9         ┆ Roberson  ┆           ┆   ┆           ┆          ┆           ┆ 6         │\n",
       "│ 1999999   ┆ EMP200000 ┆ Angela    ┆ HR        ┆ … ┆ 4         ┆ Active   ┆ Remote    ┆ 993718.0  │\n",
       "│           ┆ 0         ┆ Lambert   ┆           ┆   ┆           ┆          ┆           ┆           │\n",
       "└───────────┴───────────┴───────────┴───────────┴───┴───────────┴──────────┴───────────┴───────────┘"
      ]
     },
     "metadata": {},
     "output_type": "display_data"
    },
    {
     "name": "stdout",
     "output_type": "stream",
     "text": [
      "The column Unnamed: 0 has unique values: shape: (2_000_000,)\n",
      "Series: 'Unnamed: 0' [i64]\n",
      "[\n",
      "\t0\n",
      "\t1\n",
      "\t2\n",
      "\t3\n",
      "\t4\n",
      "\t…\n",
      "\t1999995\n",
      "\t1999996\n",
      "\t1999997\n",
      "\t1999998\n",
      "\t1999999\n",
      "]\n",
      "The column Employee_ID has unique values: shape: (2_000_000,)\n",
      "Series: 'Employee_ID' [str]\n",
      "[\n",
      "\t\"EMP0223427\"\n",
      "\t\"EMP0473729\"\n",
      "\t\"EMP0569581\"\n",
      "\t\"EMP0092181\"\n",
      "\t\"EMP0432385\"\n",
      "\t…\n",
      "\t\"EMP0873715\"\n",
      "\t\"EMP1452919\"\n",
      "\t\"EMP1484294\"\n",
      "\t\"EMP1043878\"\n",
      "\t\"EMP1756307\"\n",
      "]\n",
      "The column Full_Name has unique values: shape: (467_487,)\n",
      "Series: 'Full_Name' [str]\n",
      "[\n",
      "\t\"Paula Douglas\"\n",
      "\t\"Jacob Haas\"\n",
      "\t\"Tammy Parker\"\n",
      "\t\"Ian Brandt\"\n",
      "\t\"Samuel Christensen\"\n",
      "\t…\n",
      "\t\"John Pineda\"\n",
      "\t\"Renee Larson\"\n",
      "\t\"Briana Young\"\n",
      "\t\"Caitlin Cain\"\n",
      "\t\"Curtis Flowers\"\n",
      "]\n",
      "The column Department has unique values: shape: (7,)\n",
      "Series: 'Department' [str]\n",
      "[\n",
      "\t\"Marketing\"\n",
      "\t\"Sales\"\n",
      "\t\"HR\"\n",
      "\t\"Finance\"\n",
      "\t\"R&D\"\n",
      "\t\"Operations\"\n",
      "\t\"IT\"\n",
      "]\n",
      "The column Job_Title has unique values: shape: (29,)\n",
      "Series: 'Job_Title' [str]\n",
      "[\n",
      "\t\"CTO\"\n",
      "\t\"Lab Technician\"\n",
      "\t\"Content Strategist\"\n",
      "\t\"Operations Director\"\n",
      "\t\"IT Manager\"\n",
      "\t…\n",
      "\t\"Operations Executive\"\n",
      "\t\"Account Manager\"\n",
      "\t\"Accountant\"\n",
      "\t\"Finance Manager\"\n",
      "\t\"Sales Director\"\n",
      "]\n",
      "The column Hire_Date has unique values: shape: (5_479,)\n",
      "Series: 'Hire_Date' [date]\n",
      "[\n",
      "\t2010-08-14\n",
      "\t2010-08-15\n",
      "\t2010-08-16\n",
      "\t2010-08-17\n",
      "\t2010-08-18\n",
      "\t…\n",
      "\t2025-08-09\n",
      "\t2025-08-10\n",
      "\t2025-08-11\n",
      "\t2025-08-12\n",
      "\t2025-08-13\n",
      "]\n",
      "The column Location has unique values: shape: (1_593_497,)\n",
      "Series: 'Location' [str]\n",
      "[\n",
      "\t\"Wilsonbury, Kenya\"\n",
      "\t\"Port Stevetown, Iraq\"\n",
      "\t\"Carlostown, Dominican Republic\"\n",
      "\t\"Whiteport, Algeria\"\n",
      "\t\"Dorseystad, Cambodia\"\n",
      "\t…\n",
      "\t\"West Jasmine, Wallis and Futun…\n",
      "\t\"North Derek, Falkland Islands …\n",
      "\t\"Harthaven, Azerbaijan\"\n",
      "\t\"East Shannonmouth, Grenada\"\n",
      "\t\"Garciastad, Bosnia and Herzego…\n",
      "]\n",
      "The column Performance_Rating has unique values: shape: (5,)\n",
      "Series: 'Performance_Rating' [i64]\n",
      "[\n",
      "\t1\n",
      "\t2\n",
      "\t3\n",
      "\t4\n",
      "\t5\n",
      "]\n",
      "The column Experience_Years has unique values: shape: (16,)\n",
      "Series: 'Experience_Years' [i64]\n",
      "[\n",
      "\t0\n",
      "\t1\n",
      "\t2\n",
      "\t3\n",
      "\t4\n",
      "\t…\n",
      "\t11\n",
      "\t12\n",
      "\t13\n",
      "\t14\n",
      "\t15\n",
      "]\n",
      "The column Status has unique values: shape: (4,)\n",
      "Series: 'Status' [str]\n",
      "[\n",
      "\t\"Active\"\n",
      "\t\"Retired\"\n",
      "\t\"Terminated\"\n",
      "\t\"Resigned\"\n",
      "]\n",
      "The column Work_Mode has unique values: shape: (2,)\n",
      "Series: 'Work_Mode' [str]\n",
      "[\n",
      "\t\"On-site\"\n",
      "\t\"Remote\"\n",
      "]\n",
      "The column Salary_INR has unique values: shape: (963_946,)\n",
      "Series: 'Salary_INR' [f64]\n",
      "[\n",
      "\t300000.0\n",
      "\t300015.0\n",
      "\t300018.0\n",
      "\t300020.0\n",
      "\t300026.0\n",
      "\t…\n",
      "\t2.999889e6\n",
      "\t2.999906e6\n",
      "\t2.999944e6\n",
      "\t2.999973e6\n",
      "\t2.999976e6\n",
      "]\n"
     ]
    }
   ],
   "source": [
    "display(df)\n",
    "for col in df.columns:\n",
    "    print(f'The column {col} has unique values: {df[col].unique()}')\n",
    "    #print(f'The column {col} has unique values: {df[\"{col}\"].unique()}')"
   ]
  },
  {
   "cell_type": "code",
   "execution_count": 5,
   "id": "66d24a71",
   "metadata": {
    "_cell_guid": "3f980ea9-55ff-4251-8fbf-ec4f1315e780",
    "_uuid": "8916b69a-9bc5-44a5-b5c8-e4c417dc234c",
    "collapsed": false,
    "execution": {
     "iopub.execute_input": "2025-08-27T17:02:26.939700Z",
     "iopub.status.busy": "2025-08-27T17:02:26.939213Z",
     "iopub.status.idle": "2025-08-27T17:02:26.989219Z",
     "shell.execute_reply": "2025-08-27T17:02:26.988292Z"
    },
    "jupyter": {
     "outputs_hidden": false
    },
    "papermill": {
     "duration": 0.057881,
     "end_time": "2025-08-27T17:02:26.990846",
     "exception": false,
     "start_time": "2025-08-27T17:02:26.932965",
     "status": "completed"
    },
    "tags": []
   },
   "outputs": [
    {
     "data": {
      "text/plain": [
       "['Business Development Manager',\n",
       " 'Talent Acquisition Specialist',\n",
       " 'Finance Manager',\n",
       " 'HR Manager',\n",
       " 'CFO',\n",
       " 'Sales Director',\n",
       " 'HR Director',\n",
       " 'DevOps Engineer',\n",
       " 'Brand Manager',\n",
       " 'SEO Specialist',\n",
       " 'Financial Analyst',\n",
       " 'HR Executive',\n",
       " 'Research Scientist',\n",
       " 'CTO',\n",
       " 'Operations Director',\n",
       " 'Account Manager',\n",
       " 'Innovation Manager',\n",
       " 'Lab Technician',\n",
       " 'Operations Executive',\n",
       " 'Supply Chain Manager',\n",
       " 'Product Developer',\n",
       " 'Content Strategist',\n",
       " 'Marketing Executive',\n",
       " 'Data Analyst',\n",
       " 'IT Manager',\n",
       " 'Accountant',\n",
       " 'Software Engineer',\n",
       " 'Logistics Coordinator',\n",
       " 'Sales Executive']"
      ]
     },
     "metadata": {},
     "output_type": "display_data"
    }
   ],
   "source": [
    "display(df['Job_Title'].unique().to_list())"
   ]
  },
  {
   "cell_type": "code",
   "execution_count": 6,
   "id": "2915e855",
   "metadata": {
    "_cell_guid": "8f04a0f3-9cae-4edb-ae64-935f614662f9",
    "_uuid": "e105bc17-286b-4d5f-adf2-03cda20bcacb",
    "collapsed": false,
    "execution": {
     "iopub.execute_input": "2025-08-27T17:02:27.003436Z",
     "iopub.status.busy": "2025-08-27T17:02:27.003126Z",
     "iopub.status.idle": "2025-08-27T17:02:27.202587Z",
     "shell.execute_reply": "2025-08-27T17:02:27.201648Z"
    },
    "jupyter": {
     "outputs_hidden": false
    },
    "papermill": {
     "duration": 0.207705,
     "end_time": "2025-08-27T17:02:27.204233",
     "exception": false,
     "start_time": "2025-08-27T17:02:26.996528",
     "status": "completed"
    },
    "tags": []
   },
   "outputs": [
    {
     "data": {
      "text/html": [
       "<div><style>\n",
       ".dataframe > thead > tr,\n",
       ".dataframe > tbody > tr {\n",
       "  text-align: right;\n",
       "  white-space: pre-wrap;\n",
       "}\n",
       "</style>\n",
       "<small>shape: (2_000_000, 13)</small><table border=\"1\" class=\"dataframe\"><thead><tr><th>Unnamed: 0</th><th>Employee_ID</th><th>Full_Name</th><th>Department</th><th>Job_Title</th><th>Hire_Date</th><th>Location</th><th>Performance_Rating</th><th>Experience_Years</th><th>Status</th><th>Work_Mode</th><th>Salary_INR</th><th>Level</th></tr><tr><td>i64</td><td>str</td><td>str</td><td>str</td><td>str</td><td>date</td><td>str</td><td>i64</td><td>i64</td><td>str</td><td>str</td><td>f64</td><td>str</td></tr></thead><tbody><tr><td>0</td><td>&quot;EMP0000001&quot;</td><td>&quot;Joshua Nguyen&quot;</td><td>&quot;IT&quot;</td><td>&quot;Software Engineer&quot;</td><td>2011-08-10</td><td>&quot;Isaacland, Denmark&quot;</td><td>5</td><td>14</td><td>&quot;Resigned&quot;</td><td>&quot;On-site&quot;</td><td>1.585363e6</td><td>&quot;Employee&quot;</td></tr><tr><td>1</td><td>&quot;EMP0000002&quot;</td><td>&quot;Julie Williams&quot;</td><td>&quot;Marketing&quot;</td><td>&quot;SEO Specialist&quot;</td><td>2018-03-02</td><td>&quot;Anthonyside, Costa Rica&quot;</td><td>2</td><td>7</td><td>&quot;Active&quot;</td><td>&quot;On-site&quot;</td><td>847686.0</td><td>&quot;Employee&quot;</td></tr><tr><td>2</td><td>&quot;EMP0000003&quot;</td><td>&quot;Alyssa Martinez&quot;</td><td>&quot;HR&quot;</td><td>&quot;HR Manager&quot;</td><td>2023-03-20</td><td>&quot;Port Christinaport, Saudi Arab…</td><td>1</td><td>2</td><td>&quot;Active&quot;</td><td>&quot;On-site&quot;</td><td>1.430084e6</td><td>&quot;B-level&quot;</td></tr><tr><td>3</td><td>&quot;EMP0000004&quot;</td><td>&quot;Nicholas Valdez&quot;</td><td>&quot;IT&quot;</td><td>&quot;Software Engineer&quot;</td><td>2023-10-12</td><td>&quot;Port Shelbychester, Antigua an…</td><td>1</td><td>1</td><td>&quot;Active&quot;</td><td>&quot;On-site&quot;</td><td>990689.0</td><td>&quot;Employee&quot;</td></tr><tr><td>4</td><td>&quot;EMP0000005&quot;</td><td>&quot;Joel Hendricks&quot;</td><td>&quot;Operations&quot;</td><td>&quot;Logistics Coordinator&quot;</td><td>2024-12-09</td><td>&quot;Lake Kimberly, Palestinian Ter…</td><td>5</td><td>0</td><td>&quot;Active&quot;</td><td>&quot;On-site&quot;</td><td>535082.0</td><td>&quot;Employee&quot;</td></tr><tr><td>&hellip;</td><td>&hellip;</td><td>&hellip;</td><td>&hellip;</td><td>&hellip;</td><td>&hellip;</td><td>&hellip;</td><td>&hellip;</td><td>&hellip;</td><td>&hellip;</td><td>&hellip;</td><td>&hellip;</td><td>&hellip;</td></tr><tr><td>1999995</td><td>&quot;EMP1999996&quot;</td><td>&quot;Cody Russell&quot;</td><td>&quot;Operations&quot;</td><td>&quot;Logistics Coordinator&quot;</td><td>2010-08-31</td><td>&quot;Casefurt, Serbia&quot;</td><td>3</td><td>14</td><td>&quot;Active&quot;</td><td>&quot;Remote&quot;</td><td>657648.0</td><td>&quot;Employee&quot;</td></tr><tr><td>1999996</td><td>&quot;EMP1999997&quot;</td><td>&quot;Tracey Smith&quot;</td><td>&quot;IT&quot;</td><td>&quot;Software Engineer&quot;</td><td>2021-05-07</td><td>&quot;Dannyport, Kuwait&quot;</td><td>3</td><td>4</td><td>&quot;Active&quot;</td><td>&quot;On-site&quot;</td><td>1.030109e6</td><td>&quot;Employee&quot;</td></tr><tr><td>1999997</td><td>&quot;EMP1999998&quot;</td><td>&quot;Tracy Lee&quot;</td><td>&quot;Sales&quot;</td><td>&quot;Business Development Manager&quot;</td><td>2024-05-29</td><td>&quot;Craighaven, Nigeria&quot;</td><td>5</td><td>1</td><td>&quot;Active&quot;</td><td>&quot;Remote&quot;</td><td>1.313085e6</td><td>&quot;B-level&quot;</td></tr><tr><td>1999998</td><td>&quot;EMP1999999&quot;</td><td>&quot;Michael Roberson&quot;</td><td>&quot;IT&quot;</td><td>&quot;Software Engineer&quot;</td><td>2023-02-14</td><td>&quot;Jonathanmouth, Djibouti&quot;</td><td>4</td><td>2</td><td>&quot;Retired&quot;</td><td>&quot;On-site&quot;</td><td>1.479727e6</td><td>&quot;Employee&quot;</td></tr><tr><td>1999999</td><td>&quot;EMP2000000&quot;</td><td>&quot;Angela Lambert&quot;</td><td>&quot;HR&quot;</td><td>&quot;Talent Acquisition Specialist&quot;</td><td>2020-11-11</td><td>&quot;Morganchester, Canada&quot;</td><td>1</td><td>4</td><td>&quot;Active&quot;</td><td>&quot;Remote&quot;</td><td>993718.0</td><td>&quot;Employee&quot;</td></tr></tbody></table></div>"
      ],
      "text/plain": [
       "shape: (2_000_000, 13)\n",
       "┌────────────┬───────────┬───────────┬───────────┬───┬──────────┬───────────┬───────────┬──────────┐\n",
       "│ Unnamed: 0 ┆ Employee_ ┆ Full_Name ┆ Departmen ┆ … ┆ Status   ┆ Work_Mode ┆ Salary_IN ┆ Level    │\n",
       "│ ---        ┆ ID        ┆ ---       ┆ t         ┆   ┆ ---      ┆ ---       ┆ R         ┆ ---      │\n",
       "│ i64        ┆ ---       ┆ str       ┆ ---       ┆   ┆ str      ┆ str       ┆ ---       ┆ str      │\n",
       "│            ┆ str       ┆           ┆ str       ┆   ┆          ┆           ┆ f64       ┆          │\n",
       "╞════════════╪═══════════╪═══════════╪═══════════╪═══╪══════════╪═══════════╪═══════════╪══════════╡\n",
       "│ 0          ┆ EMP000000 ┆ Joshua    ┆ IT        ┆ … ┆ Resigned ┆ On-site   ┆ 1.585363e ┆ Employee │\n",
       "│            ┆ 1         ┆ Nguyen    ┆           ┆   ┆          ┆           ┆ 6         ┆          │\n",
       "│ 1          ┆ EMP000000 ┆ Julie     ┆ Marketing ┆ … ┆ Active   ┆ On-site   ┆ 847686.0  ┆ Employee │\n",
       "│            ┆ 2         ┆ Williams  ┆           ┆   ┆          ┆           ┆           ┆          │\n",
       "│ 2          ┆ EMP000000 ┆ Alyssa    ┆ HR        ┆ … ┆ Active   ┆ On-site   ┆ 1.430084e ┆ B-level  │\n",
       "│            ┆ 3         ┆ Martinez  ┆           ┆   ┆          ┆           ┆ 6         ┆          │\n",
       "│ 3          ┆ EMP000000 ┆ Nicholas  ┆ IT        ┆ … ┆ Active   ┆ On-site   ┆ 990689.0  ┆ Employee │\n",
       "│            ┆ 4         ┆ Valdez    ┆           ┆   ┆          ┆           ┆           ┆          │\n",
       "│ 4          ┆ EMP000000 ┆ Joel      ┆ Operation ┆ … ┆ Active   ┆ On-site   ┆ 535082.0  ┆ Employee │\n",
       "│            ┆ 5         ┆ Hendricks ┆ s         ┆   ┆          ┆           ┆           ┆          │\n",
       "│ …          ┆ …         ┆ …         ┆ …         ┆ … ┆ …        ┆ …         ┆ …         ┆ …        │\n",
       "│ 1999995    ┆ EMP199999 ┆ Cody      ┆ Operation ┆ … ┆ Active   ┆ Remote    ┆ 657648.0  ┆ Employee │\n",
       "│            ┆ 6         ┆ Russell   ┆ s         ┆   ┆          ┆           ┆           ┆          │\n",
       "│ 1999996    ┆ EMP199999 ┆ Tracey    ┆ IT        ┆ … ┆ Active   ┆ On-site   ┆ 1.030109e ┆ Employee │\n",
       "│            ┆ 7         ┆ Smith     ┆           ┆   ┆          ┆           ┆ 6         ┆          │\n",
       "│ 1999997    ┆ EMP199999 ┆ Tracy Lee ┆ Sales     ┆ … ┆ Active   ┆ Remote    ┆ 1.313085e ┆ B-level  │\n",
       "│            ┆ 8         ┆           ┆           ┆   ┆          ┆           ┆ 6         ┆          │\n",
       "│ 1999998    ┆ EMP199999 ┆ Michael   ┆ IT        ┆ … ┆ Retired  ┆ On-site   ┆ 1.479727e ┆ Employee │\n",
       "│            ┆ 9         ┆ Roberson  ┆           ┆   ┆          ┆           ┆ 6         ┆          │\n",
       "│ 1999999    ┆ EMP200000 ┆ Angela    ┆ HR        ┆ … ┆ Active   ┆ Remote    ┆ 993718.0  ┆ Employee │\n",
       "│            ┆ 0         ┆ Lambert   ┆           ┆   ┆          ┆           ┆           ┆          │\n",
       "└────────────┴───────────┴───────────┴───────────┴───┴──────────┴───────────┴───────────┴──────────┘"
      ]
     },
     "metadata": {},
     "output_type": "display_data"
    }
   ],
   "source": [
    "# Define job levels based on common corporate hierarchy\n",
    "level = {\n",
    "    'C-level': ['CTO', 'CFO', 'CEO'],\n",
    "    'V-level': ['VP'],\n",
    "    'D-level': ['Director'],\n",
    "    'B-level': ['Manager'],\n",
    "    'Employee': ['Specialist', 'Engineer', 'Accountant', 'Technician', 'Scientist', 'Executive', 'Analyst', 'Developer', 'Coordinator', 'Strategist']\n",
    "}\n",
    "\n",
    "CLevel_cond = pl.col('Job_Title').str.contains('|'.join(level['C-level']))\n",
    "VLevel_cond = pl.col('Job_Title').str.contains('|'.join(level['V-level']))\n",
    "DLevel_cond = pl.col('Job_Title').str.contains('|'.join(level['D-level']))\n",
    "BLevel_cond = pl.col('Job_Title').str.contains('|'.join(level['B-level']))\n",
    "Employee_cond = pl.col('Job_Title').str.contains('|'.join(level['Employee']))\n",
    "\n",
    "df_with_level = df.with_columns(\n",
    "    pl.when(CLevel_cond).then(pl.lit('C-level'))\n",
    "    .when(VLevel_cond).then(pl.lit('V-level'))\n",
    "    .when(DLevel_cond).then(pl.lit('D-level'))\n",
    "    .when(BLevel_cond).then(pl.lit('B-level'))\n",
    "    .otherwise(pl.lit('Employee'))\n",
    "    .alias('Level')\n",
    ")\n",
    "display(df_with_level)"
   ]
  },
  {
   "cell_type": "code",
   "execution_count": 7,
   "id": "fccdaa5f",
   "metadata": {
    "_cell_guid": "6c7f90a8-cb80-4dbf-b444-184ab9453211",
    "_uuid": "9f4e9b58-1706-4f68-a629-6b8ef8f757aa",
    "collapsed": false,
    "execution": {
     "iopub.execute_input": "2025-08-27T17:02:27.217129Z",
     "iopub.status.busy": "2025-08-27T17:02:27.216799Z",
     "iopub.status.idle": "2025-08-27T17:02:27.267397Z",
     "shell.execute_reply": "2025-08-27T17:02:27.266494Z"
    },
    "jupyter": {
     "outputs_hidden": false
    },
    "papermill": {
     "duration": 0.058755,
     "end_time": "2025-08-27T17:02:27.269086",
     "exception": false,
     "start_time": "2025-08-27T17:02:27.210331",
     "status": "completed"
    },
    "tags": []
   },
   "outputs": [
    {
     "data": {
      "text/html": [
       "<div><style>\n",
       ".dataframe > thead > tr,\n",
       ".dataframe > tbody > tr {\n",
       "  text-align: right;\n",
       "  white-space: pre-wrap;\n",
       "}\n",
       "</style>\n",
       "<small>shape: (2_000_000, 17)</small><table border=\"1\" class=\"dataframe\"><thead><tr><th>Unnamed: 0</th><th>Employee_ID</th><th>Full_Name</th><th>Department</th><th>Job_Title</th><th>Hire_Date</th><th>Location</th><th>Performance_Rating</th><th>Experience_Years</th><th>Status</th><th>Work_Mode</th><th>Salary_INR</th><th>Level</th><th>Hire_Year</th><th>Hire_Month</th><th>Hire_Weekday</th><th>Salary_USD</th></tr><tr><td>i64</td><td>str</td><td>str</td><td>str</td><td>str</td><td>date</td><td>str</td><td>i64</td><td>i64</td><td>str</td><td>str</td><td>f64</td><td>str</td><td>i32</td><td>i8</td><td>i8</td><td>f64</td></tr></thead><tbody><tr><td>0</td><td>&quot;EMP0000001&quot;</td><td>&quot;Joshua Nguyen&quot;</td><td>&quot;IT&quot;</td><td>&quot;Software Engineer&quot;</td><td>2011-08-10</td><td>&quot;Isaacland, Denmark&quot;</td><td>5</td><td>14</td><td>&quot;Resigned&quot;</td><td>&quot;On-site&quot;</td><td>1.585363e6</td><td>&quot;Employee&quot;</td><td>2011</td><td>8</td><td>3</td><td>18091.555403</td></tr><tr><td>1</td><td>&quot;EMP0000002&quot;</td><td>&quot;Julie Williams&quot;</td><td>&quot;Marketing&quot;</td><td>&quot;SEO Specialist&quot;</td><td>2018-03-02</td><td>&quot;Anthonyside, Costa Rica&quot;</td><td>2</td><td>7</td><td>&quot;Active&quot;</td><td>&quot;On-site&quot;</td><td>847686.0</td><td>&quot;Employee&quot;</td><td>2018</td><td>3</td><td>5</td><td>9673.46799</td></tr><tr><td>2</td><td>&quot;EMP0000003&quot;</td><td>&quot;Alyssa Martinez&quot;</td><td>&quot;HR&quot;</td><td>&quot;HR Manager&quot;</td><td>2023-03-20</td><td>&quot;Port Christinaport, Saudi Arab…</td><td>1</td><td>2</td><td>&quot;Active&quot;</td><td>&quot;On-site&quot;</td><td>1.430084e6</td><td>&quot;B-level&quot;</td><td>2023</td><td>3</td><td>1</td><td>16319.570923</td></tr><tr><td>3</td><td>&quot;EMP0000004&quot;</td><td>&quot;Nicholas Valdez&quot;</td><td>&quot;IT&quot;</td><td>&quot;Software Engineer&quot;</td><td>2023-10-12</td><td>&quot;Port Shelbychester, Antigua an…</td><td>1</td><td>1</td><td>&quot;Active&quot;</td><td>&quot;On-site&quot;</td><td>990689.0</td><td>&quot;Employee&quot;</td><td>2023</td><td>10</td><td>4</td><td>11305.36346</td></tr><tr><td>4</td><td>&quot;EMP0000005&quot;</td><td>&quot;Joel Hendricks&quot;</td><td>&quot;Operations&quot;</td><td>&quot;Logistics Coordinator&quot;</td><td>2024-12-09</td><td>&quot;Lake Kimberly, Palestinian Ter…</td><td>5</td><td>0</td><td>&quot;Active&quot;</td><td>&quot;On-site&quot;</td><td>535082.0</td><td>&quot;Employee&quot;</td><td>2024</td><td>12</td><td>1</td><td>6106.150862</td></tr><tr><td>&hellip;</td><td>&hellip;</td><td>&hellip;</td><td>&hellip;</td><td>&hellip;</td><td>&hellip;</td><td>&hellip;</td><td>&hellip;</td><td>&hellip;</td><td>&hellip;</td><td>&hellip;</td><td>&hellip;</td><td>&hellip;</td><td>&hellip;</td><td>&hellip;</td><td>&hellip;</td><td>&hellip;</td></tr><tr><td>1999995</td><td>&quot;EMP1999996&quot;</td><td>&quot;Cody Russell&quot;</td><td>&quot;Operations&quot;</td><td>&quot;Logistics Coordinator&quot;</td><td>2010-08-31</td><td>&quot;Casefurt, Serbia&quot;</td><td>3</td><td>14</td><td>&quot;Active&quot;</td><td>&quot;Remote&quot;</td><td>657648.0</td><td>&quot;Employee&quot;</td><td>2010</td><td>8</td><td>2</td><td>7504.827114</td></tr><tr><td>1999996</td><td>&quot;EMP1999997&quot;</td><td>&quot;Tracey Smith&quot;</td><td>&quot;IT&quot;</td><td>&quot;Software Engineer&quot;</td><td>2021-05-07</td><td>&quot;Dannyport, Kuwait&quot;</td><td>3</td><td>4</td><td>&quot;Active&quot;</td><td>&quot;On-site&quot;</td><td>1.030109e6</td><td>&quot;Employee&quot;</td><td>2021</td><td>5</td><td>5</td><td>11755.209403</td></tr><tr><td>1999997</td><td>&quot;EMP1999998&quot;</td><td>&quot;Tracy Lee&quot;</td><td>&quot;Sales&quot;</td><td>&quot;Business Development Manager&quot;</td><td>2024-05-29</td><td>&quot;Craighaven, Nigeria&quot;</td><td>5</td><td>1</td><td>&quot;Active&quot;</td><td>&quot;Remote&quot;</td><td>1.313085e6</td><td>&quot;B-level&quot;</td><td>2024</td><td>5</td><td>3</td><td>14984.423143</td></tr><tr><td>1999998</td><td>&quot;EMP1999999&quot;</td><td>&quot;Michael Roberson&quot;</td><td>&quot;IT&quot;</td><td>&quot;Software Engineer&quot;</td><td>2023-02-14</td><td>&quot;Jonathanmouth, Djibouti&quot;</td><td>4</td><td>2</td><td>&quot;Retired&quot;</td><td>&quot;On-site&quot;</td><td>1.479727e6</td><td>&quot;Employee&quot;</td><td>2023</td><td>2</td><td>2</td><td>16886.077827</td></tr><tr><td>1999999</td><td>&quot;EMP2000000&quot;</td><td>&quot;Angela Lambert&quot;</td><td>&quot;HR&quot;</td><td>&quot;Talent Acquisition Specialist&quot;</td><td>2020-11-11</td><td>&quot;Morganchester, Canada&quot;</td><td>1</td><td>4</td><td>&quot;Active&quot;</td><td>&quot;Remote&quot;</td><td>993718.0</td><td>&quot;Employee&quot;</td><td>2020</td><td>11</td><td>3</td><td>11339.929248</td></tr></tbody></table></div>"
      ],
      "text/plain": [
       "shape: (2_000_000, 17)\n",
       "┌───────────┬───────────┬───────────┬───────────┬───┬───────────┬───────────┬───────────┬──────────┐\n",
       "│ Unnamed:  ┆ Employee_ ┆ Full_Name ┆ Departmen ┆ … ┆ Hire_Year ┆ Hire_Mont ┆ Hire_Week ┆ Salary_U │\n",
       "│ 0         ┆ ID        ┆ ---       ┆ t         ┆   ┆ ---       ┆ h         ┆ day       ┆ SD       │\n",
       "│ ---       ┆ ---       ┆ str       ┆ ---       ┆   ┆ i32       ┆ ---       ┆ ---       ┆ ---      │\n",
       "│ i64       ┆ str       ┆           ┆ str       ┆   ┆           ┆ i8        ┆ i8        ┆ f64      │\n",
       "╞═══════════╪═══════════╪═══════════╪═══════════╪═══╪═══════════╪═══════════╪═══════════╪══════════╡\n",
       "│ 0         ┆ EMP000000 ┆ Joshua    ┆ IT        ┆ … ┆ 2011      ┆ 8         ┆ 3         ┆ 18091.55 │\n",
       "│           ┆ 1         ┆ Nguyen    ┆           ┆   ┆           ┆           ┆           ┆ 5403     │\n",
       "│ 1         ┆ EMP000000 ┆ Julie     ┆ Marketing ┆ … ┆ 2018      ┆ 3         ┆ 5         ┆ 9673.467 │\n",
       "│           ┆ 2         ┆ Williams  ┆           ┆   ┆           ┆           ┆           ┆ 99       │\n",
       "│ 2         ┆ EMP000000 ┆ Alyssa    ┆ HR        ┆ … ┆ 2023      ┆ 3         ┆ 1         ┆ 16319.57 │\n",
       "│           ┆ 3         ┆ Martinez  ┆           ┆   ┆           ┆           ┆           ┆ 0923     │\n",
       "│ 3         ┆ EMP000000 ┆ Nicholas  ┆ IT        ┆ … ┆ 2023      ┆ 10        ┆ 4         ┆ 11305.36 │\n",
       "│           ┆ 4         ┆ Valdez    ┆           ┆   ┆           ┆           ┆           ┆ 346      │\n",
       "│ 4         ┆ EMP000000 ┆ Joel      ┆ Operation ┆ … ┆ 2024      ┆ 12        ┆ 1         ┆ 6106.150 │\n",
       "│           ┆ 5         ┆ Hendricks ┆ s         ┆   ┆           ┆           ┆           ┆ 862      │\n",
       "│ …         ┆ …         ┆ …         ┆ …         ┆ … ┆ …         ┆ …         ┆ …         ┆ …        │\n",
       "│ 1999995   ┆ EMP199999 ┆ Cody      ┆ Operation ┆ … ┆ 2010      ┆ 8         ┆ 2         ┆ 7504.827 │\n",
       "│           ┆ 6         ┆ Russell   ┆ s         ┆   ┆           ┆           ┆           ┆ 114      │\n",
       "│ 1999996   ┆ EMP199999 ┆ Tracey    ┆ IT        ┆ … ┆ 2021      ┆ 5         ┆ 5         ┆ 11755.20 │\n",
       "│           ┆ 7         ┆ Smith     ┆           ┆   ┆           ┆           ┆           ┆ 9403     │\n",
       "│ 1999997   ┆ EMP199999 ┆ Tracy Lee ┆ Sales     ┆ … ┆ 2024      ┆ 5         ┆ 3         ┆ 14984.42 │\n",
       "│           ┆ 8         ┆           ┆           ┆   ┆           ┆           ┆           ┆ 3143     │\n",
       "│ 1999998   ┆ EMP199999 ┆ Michael   ┆ IT        ┆ … ┆ 2023      ┆ 2         ┆ 2         ┆ 16886.07 │\n",
       "│           ┆ 9         ┆ Roberson  ┆           ┆   ┆           ┆           ┆           ┆ 7827     │\n",
       "│ 1999999   ┆ EMP200000 ┆ Angela    ┆ HR        ┆ … ┆ 2020      ┆ 11        ┆ 3         ┆ 11339.92 │\n",
       "│           ┆ 0         ┆ Lambert   ┆           ┆   ┆           ┆           ┆           ┆ 9248     │\n",
       "└───────────┴───────────┴───────────┴───────────┴───┴───────────┴───────────┴───────────┴──────────┘"
      ]
     },
     "metadata": {},
     "output_type": "display_data"
    }
   ],
   "source": [
    "df_with_level = df_with_level.with_columns(\n",
    "    pl.col('Hire_Date').dt.year().alias('Hire_Year'),\n",
    "    pl.col('Hire_Date').dt.month().alias('Hire_Month'),\n",
    "    pl.col('Hire_Date').dt.weekday().alias('Hire_Weekday'),\n",
    "    (pl.col('Salary_INR')/n).alias('Salary_USD')\n",
    ")\n",
    "display(df_with_level)"
   ]
  },
  {
   "cell_type": "markdown",
   "id": "f8310e07",
   "metadata": {
    "_cell_guid": "86131c9f-3075-4f64-bea2-edad7a41648b",
    "_uuid": "42c98ca0-02b9-4194-bf06-369a4dcbaa3b",
    "collapsed": false,
    "jupyter": {
     "outputs_hidden": false
    },
    "papermill": {
     "duration": 0.005604,
     "end_time": "2025-08-27T17:02:27.280912",
     "exception": false,
     "start_time": "2025-08-27T17:02:27.275308",
     "status": "completed"
    },
    "tags": []
   },
   "source": [
    "There are remarkable value in various field:\n",
    "1) Department: Finance, IT, Operations, HR, Marketing, Sales, and R&D.\n",
    "2) Levels of management: Spreading from C-level to Employee."
   ]
  },
  {
   "cell_type": "code",
   "execution_count": 8,
   "id": "b8b096fe",
   "metadata": {
    "_cell_guid": "133db555-b517-419b-8367-32d74bd92fe4",
    "_uuid": "a1b6665f-89fb-4c34-8a86-f14833066336",
    "collapsed": false,
    "execution": {
     "iopub.execute_input": "2025-08-27T17:02:27.293836Z",
     "iopub.status.busy": "2025-08-27T17:02:27.293468Z",
     "iopub.status.idle": "2025-08-27T17:02:27.297444Z",
     "shell.execute_reply": "2025-08-27T17:02:27.296698Z"
    },
    "jupyter": {
     "outputs_hidden": false
    },
    "papermill": {
     "duration": 0.012178,
     "end_time": "2025-08-27T17:02:27.298885",
     "exception": false,
     "start_time": "2025-08-27T17:02:27.286707",
     "status": "completed"
    },
    "tags": []
   },
   "outputs": [],
   "source": [
    "# Export to csv\n",
    "#df_with_level.write_csv('HR_Data_MNC_with_levels.csv')"
   ]
  },
  {
   "cell_type": "code",
   "execution_count": null,
   "id": "16927bbf",
   "metadata": {
    "_cell_guid": "71c6549d-3022-49ce-a2cb-5993683fce03",
    "_uuid": "458e09af-0516-40ab-835d-9d6c3011d62d",
    "collapsed": false,
    "jupyter": {
     "outputs_hidden": false
    },
    "papermill": {
     "duration": 0.005642,
     "end_time": "2025-08-27T17:02:27.310441",
     "exception": false,
     "start_time": "2025-08-27T17:02:27.304799",
     "status": "completed"
    },
    "tags": []
   },
   "outputs": [],
   "source": []
  },
  {
   "cell_type": "markdown",
   "id": "b8dcaa1a",
   "metadata": {
    "_cell_guid": "a569336c-e7f4-4621-86bf-8d1ababb432e",
    "_uuid": "dd48c36b-991d-41f8-9284-8a33eaf25465",
    "collapsed": false,
    "jupyter": {
     "outputs_hidden": false
    },
    "papermill": {
     "duration": 0.005453,
     "end_time": "2025-08-27T17:02:27.321651",
     "exception": false,
     "start_time": "2025-08-27T17:02:27.316198",
     "status": "completed"
    },
    "tags": []
   },
   "source": [
    "5. ANALYSIS:"
   ]
  },
  {
   "cell_type": "code",
   "execution_count": 9,
   "id": "4627600e",
   "metadata": {
    "execution": {
     "iopub.execute_input": "2025-08-27T17:02:27.335292Z",
     "iopub.status.busy": "2025-08-27T17:02:27.334410Z",
     "iopub.status.idle": "2025-08-27T17:02:27.341448Z",
     "shell.execute_reply": "2025-08-27T17:02:27.340593Z"
    },
    "papermill": {
     "duration": 0.015534,
     "end_time": "2025-08-27T17:02:27.343134",
     "exception": false,
     "start_time": "2025-08-27T17:02:27.327600",
     "status": "completed"
    },
    "tags": []
   },
   "outputs": [
    {
     "data": {
      "text/html": [
       "\n",
       "<div class='tableauPlaceholder' id='viz1756313956922' style='position: relative'><noscript><a href='#'><img alt=' ' src='https:&#47;&#47;public.tableau.com&#47;static&#47;images&#47;HR&#47;HR_Data_MNC&#47;Q4_AVEsalarybydepartment&#47;1_rss.png' style='border: none' /></a></noscript><object class='tableauViz'  style='display:none;'><param name='host_url' value='https%3A%2F%2Fpublic.tableau.com%2F' /> <param name='embed_code_version' value='3' /> <param name='site_root' value='' /><param name='name' value='HR_Data_MNC&#47;Q4_AVEsalarybydepartment' /><param name='tabs' value='yes' /><param name='toolbar' value='yes' /><param name='static_image' value='https:&#47;&#47;public.tableau.com&#47;static&#47;images&#47;HR&#47;HR_Data_MNC&#47;Q4_AVEsalarybydepartment&#47;1.png' /> <param name='animate_transition' value='yes' /><param name='display_static_image' value='yes' /><param name='display_spinner' value='yes' /><param name='display_overlay' value='yes' /><param name='display_count' value='yes' /><param name='language' value='en-GB' /></object></div>                <script type='text/javascript'>                    var divElement = document.getElementById('viz1756313956922');                    var vizElement = divElement.getElementsByTagName('object')[0];                    vizElement.style.width='100%';vizElement.style.height=(divElement.offsetWidth*0.75)+'px';                    var scriptElement = document.createElement('script');                    scriptElement.src = 'https://public.tableau.com/javascripts/api/viz_v1.js';                    vizElement.parentNode.insertBefore(scriptElement, vizElement);                </script>\n"
      ],
      "text/plain": [
       "<IPython.core.display.HTML object>"
      ]
     },
     "metadata": {},
     "output_type": "display_data"
    }
   ],
   "source": [
    "%%HTML \n",
    "\n",
    "<div class='tableauPlaceholder' id='viz1756313956922' style='position: relative'><noscript><a href='#'><img alt=' ' src='https:&#47;&#47;public.tableau.com&#47;static&#47;images&#47;HR&#47;HR_Data_MNC&#47;Q4_AVEsalarybydepartment&#47;1_rss.png' style='border: none' /></a></noscript><object class='tableauViz'  style='display:none;'><param name='host_url' value='https%3A%2F%2Fpublic.tableau.com%2F' /> <param name='embed_code_version' value='3' /> <param name='site_root' value='' /><param name='name' value='HR_Data_MNC&#47;Q4_AVEsalarybydepartment' /><param name='tabs' value='yes' /><param name='toolbar' value='yes' /><param name='static_image' value='https:&#47;&#47;public.tableau.com&#47;static&#47;images&#47;HR&#47;HR_Data_MNC&#47;Q4_AVEsalarybydepartment&#47;1.png' /> <param name='animate_transition' value='yes' /><param name='display_static_image' value='yes' /><param name='display_spinner' value='yes' /><param name='display_overlay' value='yes' /><param name='display_count' value='yes' /><param name='language' value='en-GB' /></object></div>                <script type='text/javascript'>                    var divElement = document.getElementById('viz1756313956922');                    var vizElement = divElement.getElementsByTagName('object')[0];                    vizElement.style.width='100%';vizElement.style.height=(divElement.offsetWidth*0.75)+'px';                    var scriptElement = document.createElement('script');                    scriptElement.src = 'https://public.tableau.com/javascripts/api/viz_v1.js';                    vizElement.parentNode.insertBefore(scriptElement, vizElement);                </script>"
   ]
  },
  {
   "cell_type": "markdown",
   "id": "c2e4e8a4",
   "metadata": {
    "papermill": {
     "duration": 0.006187,
     "end_time": "2025-08-27T17:02:27.355729",
     "exception": false,
     "start_time": "2025-08-27T17:02:27.349542",
     "status": "completed"
    },
    "tags": []
   },
   "source": [
    "Working..."
   ]
  },
  {
   "cell_type": "markdown",
   "id": "88fbab29",
   "metadata": {
    "_cell_guid": "3fdf80d6-f446-46f5-8b15-78f98aa43a09",
    "_uuid": "85c03acb-544c-41ed-a568-dc5b21d3e4cd",
    "collapsed": false,
    "jupyter": {
     "outputs_hidden": false
    },
    "papermill": {
     "duration": 0.00691,
     "end_time": "2025-08-27T17:02:27.368857",
     "exception": false,
     "start_time": "2025-08-27T17:02:27.361947",
     "status": "completed"
    },
    "tags": []
   },
   "source": [
    "6. SHARING & ACT:"
   ]
  }
 ],
 "metadata": {
  "kaggle": {
   "accelerator": "none",
   "dataSources": [
    {
     "datasetId": 8122462,
     "sourceId": 12842560,
     "sourceType": "datasetVersion"
    },
    {
     "sourceId": 258516975,
     "sourceType": "kernelVersion"
    },
    {
     "sourceId": 258518560,
     "sourceType": "kernelVersion"
    }
   ],
   "dockerImageVersionId": 31089,
   "isGpuEnabled": false,
   "isInternetEnabled": true,
   "language": "python",
   "sourceType": "notebook"
  },
  "kernelspec": {
   "display_name": "Python 3",
   "language": "python",
   "name": "python3"
  },
  "language_info": {
   "codemirror_mode": {
    "name": "ipython",
    "version": 3
   },
   "file_extension": ".py",
   "mimetype": "text/x-python",
   "name": "python",
   "nbconvert_exporter": "python",
   "pygments_lexer": "ipython3",
   "version": "3.11.13"
  },
  "papermill": {
   "default_parameters": {},
   "duration": 17.891981,
   "end_time": "2025-08-27T17:02:28.196189",
   "environment_variables": {},
   "exception": null,
   "input_path": "__notebook__.ipynb",
   "output_path": "__notebook__.ipynb",
   "parameters": {},
   "start_time": "2025-08-27T17:02:10.304208",
   "version": "2.6.0"
  }
 },
 "nbformat": 4,
 "nbformat_minor": 5
}
