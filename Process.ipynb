{
 "cells": [
  {
   "cell_type": "markdown",
   "id": "43c21ced",
   "metadata": {},
   "source": [
    "1. Introduction:\n",
    "\n",
    "Human Resource (HR) Data of a Multi-national Corporation (MNC)\n",
    "\n",
    "This dataset contains HR information for employees of a multinational corporation (MNC). It includes 2 Million (20 Lakhs) employee records with details about personal identifiers, job-related attributes, performance, employment status, and salary information.\n",
    "The dataset can be used for HR analytics, including workforce distribution, attrition analysis, salary trends, and performance evaluation.\n"
   ]
  },
  {
   "cell_type": "markdown",
   "id": "92cd137c",
   "metadata": {},
   "source": [
    "2. ASK:\n",
    "\n",
    "*What are the purposes of this analysis:*\n",
    "- Workforce Distribution: Analyzing the demographics and structure of the workforce across different departments, locations, or roles. This could help management understand the composition of their staff and identify any imbalances.\n",
    "\n",
    "- Attrition Analysis: Studying employee turnover to understand why employees are leaving the company. By analyzing data on terminated employees, an organization can identify trends and potential root causes of attrition, such as low job satisfaction or poor management.\n",
    "\n",
    "- Salary Trends: Examining salary data to identify patterns, ensure fair compensation, and detect potential pay gaps. This can be used for benchmarking salaries against industry standards or for making informed decisions on compensation adjustments.\n",
    "\n",
    "- Performance Evaluation: Assessing employee performance to identify high-achievers, pinpoint areas for improvement, and link performance to other factors like salary or retention.\n",
    "\n",
    "*And they will be achieved by answering these questions:*\n",
    "\n",
    "Q.1) What is the distribution of Employee Status (Active, Resigned, Retired, Terminated) ?\n",
    "\n",
    "Q.2) What is the distribution of work modes (On-site, Remote) ?\n",
    "\n",
    "Q.3) How many employees are there in each department ?\n",
    "\n",
    "Q.4) What is the average salary by Department ?\n",
    "\n",
    "Q.5) Which job title has the highest average salary ?\n",
    "\n",
    "Q.6) What is the average salary in different Departments based on Job Title ?\n",
    "\n",
    "Q.7) How many employees Resigned & Terminated in each department ?\n",
    "\n",
    "Q.8) How does salary vary with years of experience ?\n",
    "\n",
    "Q.9) What is the average performance rating by department ?\n",
    "\n",
    "Q.10) Which Country have the highest concentration of employees ?\n",
    "\n",
    "Q.11) Is there a correlation between performance rating and salary ?\n",
    "\n",
    "Q.12) How has the number of hires changed over time (per year) ?\n",
    "\n",
    "Q.13) Compare salaries of Remote vs. On-site employees — is there a significant difference ?\n",
    "\n",
    "Q.14) Find the top 10 employees with the highest salary in each department.\n",
    "\n",
    "Q.15) Identify departments with the highest attrition rate (Resigned %)."
   ]
  },
  {
   "cell_type": "markdown",
   "id": "2e11f7b0",
   "metadata": {},
   "source": [
    "3. PREPARE:\n",
    "*Data observation:*\n",
    "- License: Database Contents License (DbCL) v1.0\n",
    "This dataset is highly permissive but no wanrranties of its accuracy, errors, fitness for purposes. Which means the dataset should be used only in practicing.\n",
    "- Validation Date: Last update was August 23, 2025.\n",
    "\n",
    "Process preparation:**\n",
    "Setup library and import dataset"
   ]
  },
  {
   "cell_type": "code",
   "execution_count": 10,
   "id": "d4ad9dc4",
   "metadata": {},
   "outputs": [],
   "source": [
    "# Import Library\n",
    "import polars as pl\n",
    "import seaborn as sns\n",
    "import matplotlib.pyplot as plt\n",
    "import os\n",
    "\n",
    "from utils import check_missing_values, check_information, check_duplicates, display_duplicates\n",
    "\n",
    "# Import dataset\n",
    "df = pl.read_csv(\"HR_Data_MNC_Data Science Lovers.csv\")\n",
    "\n",
    "# USD & INR Relationship\n",
    "n = 87.63"
   ]
  },
  {
   "cell_type": "code",
   "execution_count": 11,
   "id": "07302ef6",
   "metadata": {},
   "outputs": [
    {
     "name": "stdout",
     "output_type": "stream",
     "text": [
      "Show dataframe structure\n",
      "---------------------------------------------------------\n"
     ]
    },
    {
     "data": {
      "text/html": [
       "<div><style>\n",
       ".dataframe > thead > tr,\n",
       ".dataframe > tbody > tr {\n",
       "  text-align: right;\n",
       "  white-space: pre-wrap;\n",
       "}\n",
       "</style>\n",
       "<small>shape: (50, 12)</small><table border=\"1\" class=\"dataframe\"><thead><tr><th>Unnamed: 0</th><th>Employee_ID</th><th>Full_Name</th><th>Department</th><th>Job_Title</th><th>Hire_Date</th><th>Location</th><th>Performance_Rating</th><th>Experience_Years</th><th>Status</th><th>Work_Mode</th><th>Salary_INR</th></tr><tr><td>i64</td><td>str</td><td>str</td><td>str</td><td>str</td><td>str</td><td>str</td><td>i64</td><td>i64</td><td>str</td><td>str</td><td>i64</td></tr></thead><tbody><tr><td>0</td><td>&quot;EMP0000001&quot;</td><td>&quot;Joshua Nguyen&quot;</td><td>&quot;IT&quot;</td><td>&quot;Software Engineer&quot;</td><td>&quot;2011-08-10&quot;</td><td>&quot;Isaacland, Denmark&quot;</td><td>5</td><td>14</td><td>&quot;Resigned&quot;</td><td>&quot;On-site&quot;</td><td>1585363</td></tr><tr><td>1</td><td>&quot;EMP0000002&quot;</td><td>&quot;Julie Williams&quot;</td><td>&quot;Marketing&quot;</td><td>&quot;SEO Specialist&quot;</td><td>&quot;2018-03-02&quot;</td><td>&quot;Anthonyside, Costa Rica&quot;</td><td>2</td><td>7</td><td>&quot;Active&quot;</td><td>&quot;On-site&quot;</td><td>847686</td></tr><tr><td>2</td><td>&quot;EMP0000003&quot;</td><td>&quot;Alyssa Martinez&quot;</td><td>&quot;HR&quot;</td><td>&quot;HR Manager&quot;</td><td>&quot;2023-03-20&quot;</td><td>&quot;Port Christinaport, Saudi Arab…</td><td>1</td><td>2</td><td>&quot;Active&quot;</td><td>&quot;On-site&quot;</td><td>1430084</td></tr><tr><td>3</td><td>&quot;EMP0000004&quot;</td><td>&quot;Nicholas Valdez&quot;</td><td>&quot;IT&quot;</td><td>&quot;Software Engineer&quot;</td><td>&quot;2023-10-12&quot;</td><td>&quot;Port Shelbychester, Antigua an…</td><td>1</td><td>1</td><td>&quot;Active&quot;</td><td>&quot;On-site&quot;</td><td>990689</td></tr><tr><td>4</td><td>&quot;EMP0000005&quot;</td><td>&quot;Joel Hendricks&quot;</td><td>&quot;Operations&quot;</td><td>&quot;Logistics Coordinator&quot;</td><td>&quot;2024-12-09&quot;</td><td>&quot;Lake Kimberly, Palestinian Ter…</td><td>5</td><td>0</td><td>&quot;Active&quot;</td><td>&quot;On-site&quot;</td><td>535082</td></tr><tr><td>&hellip;</td><td>&hellip;</td><td>&hellip;</td><td>&hellip;</td><td>&hellip;</td><td>&hellip;</td><td>&hellip;</td><td>&hellip;</td><td>&hellip;</td><td>&hellip;</td><td>&hellip;</td><td>&hellip;</td></tr><tr><td>45</td><td>&quot;EMP0000046&quot;</td><td>&quot;James Miller&quot;</td><td>&quot;Marketing&quot;</td><td>&quot;SEO Specialist&quot;</td><td>&quot;2022-03-24&quot;</td><td>&quot;Melissafurt, Brunei Darussalam&quot;</td><td>5</td><td>3</td><td>&quot;Active&quot;</td><td>&quot;Remote&quot;</td><td>768681</td></tr><tr><td>46</td><td>&quot;EMP0000047&quot;</td><td>&quot;Donna Estes&quot;</td><td>&quot;Operations&quot;</td><td>&quot;Operations Director&quot;</td><td>&quot;2011-06-15&quot;</td><td>&quot;East Tina, China&quot;</td><td>2</td><td>14</td><td>&quot;Active&quot;</td><td>&quot;On-site&quot;</td><td>982133</td></tr><tr><td>47</td><td>&quot;EMP0000048&quot;</td><td>&quot;Tom Mills&quot;</td><td>&quot;HR&quot;</td><td>&quot;HR Executive&quot;</td><td>&quot;2024-01-31&quot;</td><td>&quot;Johnsonside, Ghana&quot;</td><td>1</td><td>1</td><td>&quot;Active&quot;</td><td>&quot;Remote&quot;</td><td>565467</td></tr><tr><td>48</td><td>&quot;EMP0000049&quot;</td><td>&quot;Chad Newton&quot;</td><td>&quot;IT&quot;</td><td>&quot;DevOps Engineer&quot;</td><td>&quot;2015-10-15&quot;</td><td>&quot;South Jerryhaven, Mongolia&quot;</td><td>3</td><td>9</td><td>&quot;Resigned&quot;</td><td>&quot;Remote&quot;</td><td>709525</td></tr><tr><td>49</td><td>&quot;EMP0000050&quot;</td><td>&quot;Gary Charles&quot;</td><td>&quot;Operations&quot;</td><td>&quot;Supply Chain Manager&quot;</td><td>&quot;2024-09-25&quot;</td><td>&quot;Navarroberg, Switzerland&quot;</td><td>1</td><td>0</td><td>&quot;Active&quot;</td><td>&quot;On-site&quot;</td><td>459800</td></tr></tbody></table></div>"
      ],
      "text/plain": [
       "shape: (50, 12)\n",
       "┌───────────┬───────────┬───────────┬───────────┬───┬───────────┬──────────┬───────────┬───────────┐\n",
       "│ Unnamed:  ┆ Employee_ ┆ Full_Name ┆ Departmen ┆ … ┆ Experienc ┆ Status   ┆ Work_Mode ┆ Salary_IN │\n",
       "│ 0         ┆ ID        ┆ ---       ┆ t         ┆   ┆ e_Years   ┆ ---      ┆ ---       ┆ R         │\n",
       "│ ---       ┆ ---       ┆ str       ┆ ---       ┆   ┆ ---       ┆ str      ┆ str       ┆ ---       │\n",
       "│ i64       ┆ str       ┆           ┆ str       ┆   ┆ i64       ┆          ┆           ┆ i64       │\n",
       "╞═══════════╪═══════════╪═══════════╪═══════════╪═══╪═══════════╪══════════╪═══════════╪═══════════╡\n",
       "│ 0         ┆ EMP000000 ┆ Joshua    ┆ IT        ┆ … ┆ 14        ┆ Resigned ┆ On-site   ┆ 1585363   │\n",
       "│           ┆ 1         ┆ Nguyen    ┆           ┆   ┆           ┆          ┆           ┆           │\n",
       "│ 1         ┆ EMP000000 ┆ Julie     ┆ Marketing ┆ … ┆ 7         ┆ Active   ┆ On-site   ┆ 847686    │\n",
       "│           ┆ 2         ┆ Williams  ┆           ┆   ┆           ┆          ┆           ┆           │\n",
       "│ 2         ┆ EMP000000 ┆ Alyssa    ┆ HR        ┆ … ┆ 2         ┆ Active   ┆ On-site   ┆ 1430084   │\n",
       "│           ┆ 3         ┆ Martinez  ┆           ┆   ┆           ┆          ┆           ┆           │\n",
       "│ 3         ┆ EMP000000 ┆ Nicholas  ┆ IT        ┆ … ┆ 1         ┆ Active   ┆ On-site   ┆ 990689    │\n",
       "│           ┆ 4         ┆ Valdez    ┆           ┆   ┆           ┆          ┆           ┆           │\n",
       "│ 4         ┆ EMP000000 ┆ Joel      ┆ Operation ┆ … ┆ 0         ┆ Active   ┆ On-site   ┆ 535082    │\n",
       "│           ┆ 5         ┆ Hendricks ┆ s         ┆   ┆           ┆          ┆           ┆           │\n",
       "│ …         ┆ …         ┆ …         ┆ …         ┆ … ┆ …         ┆ …        ┆ …         ┆ …         │\n",
       "│ 45        ┆ EMP000004 ┆ James     ┆ Marketing ┆ … ┆ 3         ┆ Active   ┆ Remote    ┆ 768681    │\n",
       "│           ┆ 6         ┆ Miller    ┆           ┆   ┆           ┆          ┆           ┆           │\n",
       "│ 46        ┆ EMP000004 ┆ Donna     ┆ Operation ┆ … ┆ 14        ┆ Active   ┆ On-site   ┆ 982133    │\n",
       "│           ┆ 7         ┆ Estes     ┆ s         ┆   ┆           ┆          ┆           ┆           │\n",
       "│ 47        ┆ EMP000004 ┆ Tom Mills ┆ HR        ┆ … ┆ 1         ┆ Active   ┆ Remote    ┆ 565467    │\n",
       "│           ┆ 8         ┆           ┆           ┆   ┆           ┆          ┆           ┆           │\n",
       "│ 48        ┆ EMP000004 ┆ Chad      ┆ IT        ┆ … ┆ 9         ┆ Resigned ┆ Remote    ┆ 709525    │\n",
       "│           ┆ 9         ┆ Newton    ┆           ┆   ┆           ┆          ┆           ┆           │\n",
       "│ 49        ┆ EMP000005 ┆ Gary      ┆ Operation ┆ … ┆ 0         ┆ Active   ┆ On-site   ┆ 459800    │\n",
       "│           ┆ 0         ┆ Charles   ┆ s         ┆   ┆           ┆          ┆           ┆           │\n",
       "└───────────┴───────────┴───────────┴───────────┴───┴───────────┴──────────┴───────────┴───────────┘"
      ]
     },
     "metadata": {},
     "output_type": "display_data"
    },
    {
     "name": "stdout",
     "output_type": "stream",
     "text": [
      "check_missing_values\n",
      "---------------------------------------------------------\n"
     ]
    },
    {
     "data": {
      "text/html": [
       "<div><style>\n",
       ".dataframe > thead > tr,\n",
       ".dataframe > tbody > tr {\n",
       "  text-align: right;\n",
       "  white-space: pre-wrap;\n",
       "}\n",
       "</style>\n",
       "<small>shape: (1, 12)</small><table border=\"1\" class=\"dataframe\"><thead><tr><th>Unnamed: 0</th><th>Employee_ID</th><th>Full_Name</th><th>Department</th><th>Job_Title</th><th>Hire_Date</th><th>Location</th><th>Performance_Rating</th><th>Experience_Years</th><th>Status</th><th>Work_Mode</th><th>Salary_INR</th></tr><tr><td>u32</td><td>u32</td><td>u32</td><td>u32</td><td>u32</td><td>u32</td><td>u32</td><td>u32</td><td>u32</td><td>u32</td><td>u32</td><td>u32</td></tr></thead><tbody><tr><td>0</td><td>0</td><td>0</td><td>0</td><td>0</td><td>0</td><td>0</td><td>0</td><td>0</td><td>0</td><td>0</td><td>0</td></tr></tbody></table></div>"
      ],
      "text/plain": [
       "shape: (1, 12)\n",
       "┌────────────┬────────────┬───────────┬───────────┬───┬───────────┬────────┬───────────┬───────────┐\n",
       "│ Unnamed: 0 ┆ Employee_I ┆ Full_Name ┆ Departmen ┆ … ┆ Experienc ┆ Status ┆ Work_Mode ┆ Salary_IN │\n",
       "│ ---        ┆ D          ┆ ---       ┆ t         ┆   ┆ e_Years   ┆ ---    ┆ ---       ┆ R         │\n",
       "│ u32        ┆ ---        ┆ u32       ┆ ---       ┆   ┆ ---       ┆ u32    ┆ u32       ┆ ---       │\n",
       "│            ┆ u32        ┆           ┆ u32       ┆   ┆ u32       ┆        ┆           ┆ u32       │\n",
       "╞════════════╪════════════╪═══════════╪═══════════╪═══╪═══════════╪════════╪═══════════╪═══════════╡\n",
       "│ 0          ┆ 0          ┆ 0         ┆ 0         ┆ … ┆ 0         ┆ 0      ┆ 0         ┆ 0         │\n",
       "└────────────┴────────────┴───────────┴───────────┴───┴───────────┴────────┴───────────┴───────────┘"
      ]
     },
     "metadata": {},
     "output_type": "display_data"
    },
    {
     "name": "stdout",
     "output_type": "stream",
     "text": [
      "check_information\n",
      "---------------------------------------------------------\n"
     ]
    },
    {
     "data": {
      "text/html": [
       "<div><style>\n",
       ".dataframe > thead > tr,\n",
       ".dataframe > tbody > tr {\n",
       "  text-align: right;\n",
       "  white-space: pre-wrap;\n",
       "}\n",
       "</style>\n",
       "<small>shape: (9, 13)</small><table border=\"1\" class=\"dataframe\"><thead><tr><th>statistic</th><th>Unnamed: 0</th><th>Employee_ID</th><th>Full_Name</th><th>Department</th><th>Job_Title</th><th>Hire_Date</th><th>Location</th><th>Performance_Rating</th><th>Experience_Years</th><th>Status</th><th>Work_Mode</th><th>Salary_INR</th></tr><tr><td>str</td><td>f64</td><td>str</td><td>str</td><td>str</td><td>str</td><td>str</td><td>str</td><td>f64</td><td>f64</td><td>str</td><td>str</td><td>f64</td></tr></thead><tbody><tr><td>&quot;count&quot;</td><td>2e6</td><td>&quot;2000000&quot;</td><td>&quot;2000000&quot;</td><td>&quot;2000000&quot;</td><td>&quot;2000000&quot;</td><td>&quot;2000000&quot;</td><td>&quot;2000000&quot;</td><td>2e6</td><td>2e6</td><td>&quot;2000000&quot;</td><td>&quot;2000000&quot;</td><td>2e6</td></tr><tr><td>&quot;null_count&quot;</td><td>0.0</td><td>&quot;0&quot;</td><td>&quot;0&quot;</td><td>&quot;0&quot;</td><td>&quot;0&quot;</td><td>&quot;0&quot;</td><td>&quot;0&quot;</td><td>0.0</td><td>0.0</td><td>&quot;0&quot;</td><td>&quot;0&quot;</td><td>0.0</td></tr><tr><td>&quot;mean&quot;</td><td>999999.5</td><td>null</td><td>null</td><td>null</td><td>null</td><td>null</td><td>null</td><td>3.0001485</td><td>5.010287</td><td>null</td><td>null</td><td>896887.755664</td></tr><tr><td>&quot;std&quot;</td><td>577350.413527</td><td>null</td><td>null</td><td>null</td><td>null</td><td>null</td><td>null</td><td>1.413973</td><td>3.608823</td><td>null</td><td>null</td><td>402610.304438</td></tr><tr><td>&quot;min&quot;</td><td>0.0</td><td>&quot;EMP0000001&quot;</td><td>&quot;Aaron Abbott&quot;</td><td>&quot;Finance&quot;</td><td>&quot;Account Manager&quot;</td><td>&quot;2010-08-14&quot;</td><td>&quot;Aaronberg, Anguilla&quot;</td><td>1.0</td><td>0.0</td><td>&quot;Active&quot;</td><td>&quot;On-site&quot;</td><td>300000.0</td></tr><tr><td>&quot;25%&quot;</td><td>500000.0</td><td>null</td><td>null</td><td>null</td><td>null</td><td>null</td><td>null</td><td>2.0</td><td>2.0</td><td>null</td><td>null</td><td>616346.0</td></tr><tr><td>&quot;50%&quot;</td><td>1e6</td><td>null</td><td>null</td><td>null</td><td>null</td><td>null</td><td>null</td><td>3.0</td><td>5.0</td><td>null</td><td>null</td><td>811027.0</td></tr><tr><td>&quot;75%&quot;</td><td>1.499999e6</td><td>null</td><td>null</td><td>null</td><td>null</td><td>null</td><td>null</td><td>4.0</td><td>8.0</td><td>null</td><td>null</td><td>1.073745e6</td></tr><tr><td>&quot;max&quot;</td><td>1.999999e6</td><td>&quot;EMP2000000&quot;</td><td>&quot;Zoe Zimmerman&quot;</td><td>&quot;Sales&quot;</td><td>&quot;Talent Acquisition Specialist&quot;</td><td>&quot;2025-08-13&quot;</td><td>&quot;Zunigaville, Zambia&quot;</td><td>5.0</td><td>15.0</td><td>&quot;Terminated&quot;</td><td>&quot;Remote&quot;</td><td>2.999976e6</td></tr></tbody></table></div>"
      ],
      "text/plain": [
       "shape: (9, 13)\n",
       "┌───────────┬───────────┬───────────┬───────────┬───┬───────────┬───────────┬───────────┬──────────┐\n",
       "│ statistic ┆ Unnamed:  ┆ Employee_ ┆ Full_Name ┆ … ┆ Experienc ┆ Status    ┆ Work_Mode ┆ Salary_I │\n",
       "│ ---       ┆ 0         ┆ ID        ┆ ---       ┆   ┆ e_Years   ┆ ---       ┆ ---       ┆ NR       │\n",
       "│ str       ┆ ---       ┆ ---       ┆ str       ┆   ┆ ---       ┆ str       ┆ str       ┆ ---      │\n",
       "│           ┆ f64       ┆ str       ┆           ┆   ┆ f64       ┆           ┆           ┆ f64      │\n",
       "╞═══════════╪═══════════╪═══════════╪═══════════╪═══╪═══════════╪═══════════╪═══════════╪══════════╡\n",
       "│ count     ┆ 2e6       ┆ 2000000   ┆ 2000000   ┆ … ┆ 2e6       ┆ 2000000   ┆ 2000000   ┆ 2e6      │\n",
       "│ null_coun ┆ 0.0       ┆ 0         ┆ 0         ┆ … ┆ 0.0       ┆ 0         ┆ 0         ┆ 0.0      │\n",
       "│ t         ┆           ┆           ┆           ┆   ┆           ┆           ┆           ┆          │\n",
       "│ mean      ┆ 999999.5  ┆ null      ┆ null      ┆ … ┆ 5.010287  ┆ null      ┆ null      ┆ 896887.7 │\n",
       "│           ┆           ┆           ┆           ┆   ┆           ┆           ┆           ┆ 55664    │\n",
       "│ std       ┆ 577350.41 ┆ null      ┆ null      ┆ … ┆ 3.608823  ┆ null      ┆ null      ┆ 402610.3 │\n",
       "│           ┆ 3527      ┆           ┆           ┆   ┆           ┆           ┆           ┆ 04438    │\n",
       "│ min       ┆ 0.0       ┆ EMP000000 ┆ Aaron     ┆ … ┆ 0.0       ┆ Active    ┆ On-site   ┆ 300000.0 │\n",
       "│           ┆           ┆ 1         ┆ Abbott    ┆   ┆           ┆           ┆           ┆          │\n",
       "│ 25%       ┆ 500000.0  ┆ null      ┆ null      ┆ … ┆ 2.0       ┆ null      ┆ null      ┆ 616346.0 │\n",
       "│ 50%       ┆ 1e6       ┆ null      ┆ null      ┆ … ┆ 5.0       ┆ null      ┆ null      ┆ 811027.0 │\n",
       "│ 75%       ┆ 1.499999e ┆ null      ┆ null      ┆ … ┆ 8.0       ┆ null      ┆ null      ┆ 1.073745 │\n",
       "│           ┆ 6         ┆           ┆           ┆   ┆           ┆           ┆           ┆ e6       │\n",
       "│ max       ┆ 1.999999e ┆ EMP200000 ┆ Zoe       ┆ … ┆ 15.0      ┆ Terminate ┆ Remote    ┆ 2.999976 │\n",
       "│           ┆ 6         ┆ 0         ┆ Zimmerman ┆   ┆           ┆ d         ┆           ┆ e6       │\n",
       "└───────────┴───────────┴───────────┴───────────┴───┴───────────┴───────────┴───────────┴──────────┘"
      ]
     },
     "metadata": {},
     "output_type": "display_data"
    },
    {
     "name": "stdout",
     "output_type": "stream",
     "text": [
      "check_duplicates\n"
     ]
    },
    {
     "data": {
      "text/plain": [
       "0"
      ]
     },
     "metadata": {},
     "output_type": "display_data"
    },
    {
     "name": "stdout",
     "output_type": "stream",
     "text": [
      "No duplicate rows found.\n"
     ]
    }
   ],
   "source": [
    "print(\"Show dataframe structure\")\n",
    "print(\"---------------------------------------------------------\")\n",
    "display(df.head(50))\n",
    "print(\"check_missing_values\")\n",
    "print(\"---------------------------------------------------------\")\n",
    "display(df.null_count())\n",
    "print(\"check_information\")\n",
    "print(\"---------------------------------------------------------\")\n",
    "display(df.describe())\n",
    "print(\"check_duplicates\")\n",
    "duplicates = df.is_duplicated().sum() #May also be used with df.unique(subset = ['column'])\n",
    "display(duplicates)\n",
    "if duplicates > 0:\n",
    "        print(f\"Duplicate rows found: {duplicates}\")\n",
    "else:\n",
    "        print(\"No duplicate rows found.\")\n"
   ]
  },
  {
   "cell_type": "markdown",
   "id": "6fc69f69",
   "metadata": {},
   "source": [
    "*Initial Data Exploration:*\n",
    "1) Unnamed: 0 – Index column (auto-generated, not useful for analysis, will be deleted).\n",
    "2) Employee_ID – Unique identifier assigned to each employee (e.g., EMP0000001).\n",
    "3) Full_Name – Full name of the employee.\n",
    "4) Department – Department in which the employee works (e.g., IT, HR, Marketing, Operations).\n",
    "5) Job_Title – Designation or role of the employee (e.g., Software Engineer, HR Manager).\n",
    "6) Hire_Date – The date when the employee was hired by the company.\n",
    "7) Location – Geographical location of the employee (city, country).\n",
    "8) Performance_Rating – Performance evaluation score (numeric scale, higher is better).\n",
    "9) Experience_Years – Number of years of professional experience the employee has.\n",
    "10) Status – Current employment status (e.g., Active, Resigned).\n",
    "11) Work_Mode – Mode of working (e.g., On-site, Hybrid, Remote).\n",
    "12) Salary_INR – Annual salary of the employee in Indian Rupees.\n",
    "\n",
    "*Data Cleaning*\n",
    "With the above checking of missing values, duplications, data input consistence, column name. No problem is found."
   ]
  },
  {
   "cell_type": "markdown",
   "id": "33bf65bb",
   "metadata": {},
   "source": [
    "4. PROCESS:"
   ]
  },
  {
   "cell_type": "code",
   "execution_count": 12,
   "id": "d2729106",
   "metadata": {},
   "outputs": [],
   "source": [
    "df = df.with_columns([\n",
    "    pl.col(\"Hire_Date\").str.to_date(),\n",
    "    pl.col('Salary_INR').cast(pl.Float64)\n",
    "])"
   ]
  },
  {
   "cell_type": "code",
   "execution_count": 13,
   "id": "c17ae105",
   "metadata": {},
   "outputs": [
    {
     "data": {
      "text/html": [
       "<div><style>\n",
       ".dataframe > thead > tr,\n",
       ".dataframe > tbody > tr {\n",
       "  text-align: right;\n",
       "  white-space: pre-wrap;\n",
       "}\n",
       "</style>\n",
       "<small>shape: (2_000_000, 12)</small><table border=\"1\" class=\"dataframe\"><thead><tr><th>Unnamed: 0</th><th>Employee_ID</th><th>Full_Name</th><th>Department</th><th>Job_Title</th><th>Hire_Date</th><th>Location</th><th>Performance_Rating</th><th>Experience_Years</th><th>Status</th><th>Work_Mode</th><th>Salary_INR</th></tr><tr><td>i64</td><td>str</td><td>str</td><td>str</td><td>str</td><td>date</td><td>str</td><td>i64</td><td>i64</td><td>str</td><td>str</td><td>f64</td></tr></thead><tbody><tr><td>0</td><td>&quot;EMP0000001&quot;</td><td>&quot;Joshua Nguyen&quot;</td><td>&quot;IT&quot;</td><td>&quot;Software Engineer&quot;</td><td>2011-08-10</td><td>&quot;Isaacland, Denmark&quot;</td><td>5</td><td>14</td><td>&quot;Resigned&quot;</td><td>&quot;On-site&quot;</td><td>1.585363e6</td></tr><tr><td>1</td><td>&quot;EMP0000002&quot;</td><td>&quot;Julie Williams&quot;</td><td>&quot;Marketing&quot;</td><td>&quot;SEO Specialist&quot;</td><td>2018-03-02</td><td>&quot;Anthonyside, Costa Rica&quot;</td><td>2</td><td>7</td><td>&quot;Active&quot;</td><td>&quot;On-site&quot;</td><td>847686.0</td></tr><tr><td>2</td><td>&quot;EMP0000003&quot;</td><td>&quot;Alyssa Martinez&quot;</td><td>&quot;HR&quot;</td><td>&quot;HR Manager&quot;</td><td>2023-03-20</td><td>&quot;Port Christinaport, Saudi Arab…</td><td>1</td><td>2</td><td>&quot;Active&quot;</td><td>&quot;On-site&quot;</td><td>1.430084e6</td></tr><tr><td>3</td><td>&quot;EMP0000004&quot;</td><td>&quot;Nicholas Valdez&quot;</td><td>&quot;IT&quot;</td><td>&quot;Software Engineer&quot;</td><td>2023-10-12</td><td>&quot;Port Shelbychester, Antigua an…</td><td>1</td><td>1</td><td>&quot;Active&quot;</td><td>&quot;On-site&quot;</td><td>990689.0</td></tr><tr><td>4</td><td>&quot;EMP0000005&quot;</td><td>&quot;Joel Hendricks&quot;</td><td>&quot;Operations&quot;</td><td>&quot;Logistics Coordinator&quot;</td><td>2024-12-09</td><td>&quot;Lake Kimberly, Palestinian Ter…</td><td>5</td><td>0</td><td>&quot;Active&quot;</td><td>&quot;On-site&quot;</td><td>535082.0</td></tr><tr><td>&hellip;</td><td>&hellip;</td><td>&hellip;</td><td>&hellip;</td><td>&hellip;</td><td>&hellip;</td><td>&hellip;</td><td>&hellip;</td><td>&hellip;</td><td>&hellip;</td><td>&hellip;</td><td>&hellip;</td></tr><tr><td>1999995</td><td>&quot;EMP1999996&quot;</td><td>&quot;Cody Russell&quot;</td><td>&quot;Operations&quot;</td><td>&quot;Logistics Coordinator&quot;</td><td>2010-08-31</td><td>&quot;Casefurt, Serbia&quot;</td><td>3</td><td>14</td><td>&quot;Active&quot;</td><td>&quot;Remote&quot;</td><td>657648.0</td></tr><tr><td>1999996</td><td>&quot;EMP1999997&quot;</td><td>&quot;Tracey Smith&quot;</td><td>&quot;IT&quot;</td><td>&quot;Software Engineer&quot;</td><td>2021-05-07</td><td>&quot;Dannyport, Kuwait&quot;</td><td>3</td><td>4</td><td>&quot;Active&quot;</td><td>&quot;On-site&quot;</td><td>1.030109e6</td></tr><tr><td>1999997</td><td>&quot;EMP1999998&quot;</td><td>&quot;Tracy Lee&quot;</td><td>&quot;Sales&quot;</td><td>&quot;Business Development Manager&quot;</td><td>2024-05-29</td><td>&quot;Craighaven, Nigeria&quot;</td><td>5</td><td>1</td><td>&quot;Active&quot;</td><td>&quot;Remote&quot;</td><td>1.313085e6</td></tr><tr><td>1999998</td><td>&quot;EMP1999999&quot;</td><td>&quot;Michael Roberson&quot;</td><td>&quot;IT&quot;</td><td>&quot;Software Engineer&quot;</td><td>2023-02-14</td><td>&quot;Jonathanmouth, Djibouti&quot;</td><td>4</td><td>2</td><td>&quot;Retired&quot;</td><td>&quot;On-site&quot;</td><td>1.479727e6</td></tr><tr><td>1999999</td><td>&quot;EMP2000000&quot;</td><td>&quot;Angela Lambert&quot;</td><td>&quot;HR&quot;</td><td>&quot;Talent Acquisition Specialist&quot;</td><td>2020-11-11</td><td>&quot;Morganchester, Canada&quot;</td><td>1</td><td>4</td><td>&quot;Active&quot;</td><td>&quot;Remote&quot;</td><td>993718.0</td></tr></tbody></table></div>"
      ],
      "text/plain": [
       "shape: (2_000_000, 12)\n",
       "┌───────────┬───────────┬───────────┬───────────┬───┬───────────┬──────────┬───────────┬───────────┐\n",
       "│ Unnamed:  ┆ Employee_ ┆ Full_Name ┆ Departmen ┆ … ┆ Experienc ┆ Status   ┆ Work_Mode ┆ Salary_IN │\n",
       "│ 0         ┆ ID        ┆ ---       ┆ t         ┆   ┆ e_Years   ┆ ---      ┆ ---       ┆ R         │\n",
       "│ ---       ┆ ---       ┆ str       ┆ ---       ┆   ┆ ---       ┆ str      ┆ str       ┆ ---       │\n",
       "│ i64       ┆ str       ┆           ┆ str       ┆   ┆ i64       ┆          ┆           ┆ f64       │\n",
       "╞═══════════╪═══════════╪═══════════╪═══════════╪═══╪═══════════╪══════════╪═══════════╪═══════════╡\n",
       "│ 0         ┆ EMP000000 ┆ Joshua    ┆ IT        ┆ … ┆ 14        ┆ Resigned ┆ On-site   ┆ 1.585363e │\n",
       "│           ┆ 1         ┆ Nguyen    ┆           ┆   ┆           ┆          ┆           ┆ 6         │\n",
       "│ 1         ┆ EMP000000 ┆ Julie     ┆ Marketing ┆ … ┆ 7         ┆ Active   ┆ On-site   ┆ 847686.0  │\n",
       "│           ┆ 2         ┆ Williams  ┆           ┆   ┆           ┆          ┆           ┆           │\n",
       "│ 2         ┆ EMP000000 ┆ Alyssa    ┆ HR        ┆ … ┆ 2         ┆ Active   ┆ On-site   ┆ 1.430084e │\n",
       "│           ┆ 3         ┆ Martinez  ┆           ┆   ┆           ┆          ┆           ┆ 6         │\n",
       "│ 3         ┆ EMP000000 ┆ Nicholas  ┆ IT        ┆ … ┆ 1         ┆ Active   ┆ On-site   ┆ 990689.0  │\n",
       "│           ┆ 4         ┆ Valdez    ┆           ┆   ┆           ┆          ┆           ┆           │\n",
       "│ 4         ┆ EMP000000 ┆ Joel      ┆ Operation ┆ … ┆ 0         ┆ Active   ┆ On-site   ┆ 535082.0  │\n",
       "│           ┆ 5         ┆ Hendricks ┆ s         ┆   ┆           ┆          ┆           ┆           │\n",
       "│ …         ┆ …         ┆ …         ┆ …         ┆ … ┆ …         ┆ …        ┆ …         ┆ …         │\n",
       "│ 1999995   ┆ EMP199999 ┆ Cody      ┆ Operation ┆ … ┆ 14        ┆ Active   ┆ Remote    ┆ 657648.0  │\n",
       "│           ┆ 6         ┆ Russell   ┆ s         ┆   ┆           ┆          ┆           ┆           │\n",
       "│ 1999996   ┆ EMP199999 ┆ Tracey    ┆ IT        ┆ … ┆ 4         ┆ Active   ┆ On-site   ┆ 1.030109e │\n",
       "│           ┆ 7         ┆ Smith     ┆           ┆   ┆           ┆          ┆           ┆ 6         │\n",
       "│ 1999997   ┆ EMP199999 ┆ Tracy Lee ┆ Sales     ┆ … ┆ 1         ┆ Active   ┆ Remote    ┆ 1.313085e │\n",
       "│           ┆ 8         ┆           ┆           ┆   ┆           ┆          ┆           ┆ 6         │\n",
       "│ 1999998   ┆ EMP199999 ┆ Michael   ┆ IT        ┆ … ┆ 2         ┆ Retired  ┆ On-site   ┆ 1.479727e │\n",
       "│           ┆ 9         ┆ Roberson  ┆           ┆   ┆           ┆          ┆           ┆ 6         │\n",
       "│ 1999999   ┆ EMP200000 ┆ Angela    ┆ HR        ┆ … ┆ 4         ┆ Active   ┆ Remote    ┆ 993718.0  │\n",
       "│           ┆ 0         ┆ Lambert   ┆           ┆   ┆           ┆          ┆           ┆           │\n",
       "└───────────┴───────────┴───────────┴───────────┴───┴───────────┴──────────┴───────────┴───────────┘"
      ]
     },
     "metadata": {},
     "output_type": "display_data"
    },
    {
     "name": "stdout",
     "output_type": "stream",
     "text": [
      "The column Unnamed: 0 has unique values: shape: (2_000_000,)\n",
      "Series: 'Unnamed: 0' [i64]\n",
      "[\n",
      "\t0\n",
      "\t1\n",
      "\t2\n",
      "\t3\n",
      "\t4\n",
      "\t…\n",
      "\t1999995\n",
      "\t1999996\n",
      "\t1999997\n",
      "\t1999998\n",
      "\t1999999\n",
      "]\n",
      "The column Employee_ID has unique values: shape: (2_000_000,)\n",
      "Series: 'Employee_ID' [str]\n",
      "[\n",
      "\t\"EMP0005321\"\n",
      "\t\"EMP0621643\"\n",
      "\t\"EMP1742462\"\n",
      "\t\"EMP1381889\"\n",
      "\t\"EMP1969938\"\n",
      "\t…\n",
      "\t\"EMP1672520\"\n",
      "\t\"EMP0412219\"\n",
      "\t\"EMP0372791\"\n",
      "\t\"EMP1541209\"\n",
      "\t\"EMP1017865\"\n",
      "]\n",
      "The column Full_Name has unique values: shape: (467_487,)\n",
      "Series: 'Full_Name' [str]\n",
      "[\n",
      "\t\"Debra Johnson\"\n",
      "\t\"Stacy Cruz\"\n",
      "\t\"Troy Phelps\"\n",
      "\t\"Roger Casey\"\n",
      "\t\"Thomas Jennings\"\n",
      "\t…\n",
      "\t\"Leslie Aguilar\"\n",
      "\t\"Glen Rodgers\"\n",
      "\t\"Timothy Walter Jr.\"\n",
      "\t\"Dr. Kenneth Thomas MD\"\n",
      "\t\"Ross Solis\"\n",
      "]\n",
      "The column Department has unique values: shape: (7,)\n",
      "Series: 'Department' [str]\n",
      "[\n",
      "\t\"IT\"\n",
      "\t\"Finance\"\n",
      "\t\"HR\"\n",
      "\t\"R&D\"\n",
      "\t\"Sales\"\n",
      "\t\"Operations\"\n",
      "\t\"Marketing\"\n",
      "]\n",
      "The column Job_Title has unique values: shape: (29,)\n",
      "Series: 'Job_Title' [str]\n",
      "[\n",
      "\t\"Lab Technician\"\n",
      "\t\"Financial Analyst\"\n",
      "\t\"Supply Chain Manager\"\n",
      "\t\"DevOps Engineer\"\n",
      "\t\"Research Scientist\"\n",
      "\t…\n",
      "\t\"Sales Director\"\n",
      "\t\"Data Analyst\"\n",
      "\t\"CTO\"\n",
      "\t\"Operations Director\"\n",
      "\t\"CFO\"\n",
      "]\n",
      "The column Hire_Date has unique values: shape: (5_479,)\n",
      "Series: 'Hire_Date' [date]\n",
      "[\n",
      "\t2010-08-14\n",
      "\t2010-08-15\n",
      "\t2010-08-16\n",
      "\t2010-08-17\n",
      "\t2010-08-18\n",
      "\t…\n",
      "\t2025-08-09\n",
      "\t2025-08-10\n",
      "\t2025-08-11\n",
      "\t2025-08-12\n",
      "\t2025-08-13\n",
      "]\n",
      "The column Location has unique values: shape: (1_593_497,)\n",
      "Series: 'Location' [str]\n",
      "[\n",
      "\t\"Port Victor, Tunisia\"\n",
      "\t\"Kimton, Kyrgyz Republic\"\n",
      "\t\"East Williamport, Samoa\"\n",
      "\t\"South Caseymouth, Tanzania\"\n",
      "\t\"Martinchester, Albania\"\n",
      "\t…\n",
      "\t\"Chanmouth, Suriname\"\n",
      "\t\"Lake Graceberg, Jersey\"\n",
      "\t\"West Michellemouth, Libyan Ara…\n",
      "\t\"Barkerfort, Sierra Leone\"\n",
      "\t\"Shortburgh, Nauru\"\n",
      "]\n",
      "The column Performance_Rating has unique values: shape: (5,)\n",
      "Series: 'Performance_Rating' [i64]\n",
      "[\n",
      "\t1\n",
      "\t2\n",
      "\t3\n",
      "\t4\n",
      "\t5\n",
      "]\n",
      "The column Experience_Years has unique values: shape: (16,)\n",
      "Series: 'Experience_Years' [i64]\n",
      "[\n",
      "\t0\n",
      "\t1\n",
      "\t2\n",
      "\t3\n",
      "\t4\n",
      "\t…\n",
      "\t11\n",
      "\t12\n",
      "\t13\n",
      "\t14\n",
      "\t15\n",
      "]\n",
      "The column Status has unique values: shape: (4,)\n",
      "Series: 'Status' [str]\n",
      "[\n",
      "\t\"Active\"\n",
      "\t\"Terminated\"\n",
      "\t\"Retired\"\n",
      "\t\"Resigned\"\n",
      "]\n",
      "The column Work_Mode has unique values: shape: (2,)\n",
      "Series: 'Work_Mode' [str]\n",
      "[\n",
      "\t\"On-site\"\n",
      "\t\"Remote\"\n",
      "]\n",
      "The column Salary_INR has unique values: shape: (963_946,)\n",
      "Series: 'Salary_INR' [f64]\n",
      "[\n",
      "\t300000.0\n",
      "\t300015.0\n",
      "\t300018.0\n",
      "\t300020.0\n",
      "\t300026.0\n",
      "\t…\n",
      "\t2.999889e6\n",
      "\t2.999906e6\n",
      "\t2.999944e6\n",
      "\t2.999973e6\n",
      "\t2.999976e6\n",
      "]\n"
     ]
    }
   ],
   "source": [
    "display(df)\n",
    "for col in df.columns:\n",
    "    print(f'The column {col} has unique values: {df[col].unique()}')\n",
    "    #print(f'The column {col} has unique values: {df[\"{col}\"].unique()}')"
   ]
  },
  {
   "cell_type": "code",
   "execution_count": 14,
   "id": "5edbf428",
   "metadata": {},
   "outputs": [
    {
     "data": {
      "text/plain": [
       "['Content Strategist',\n",
       " 'Account Manager',\n",
       " 'HR Director',\n",
       " 'Operations Executive',\n",
       " 'Software Engineer',\n",
       " 'Accountant',\n",
       " 'Brand Manager',\n",
       " 'HR Manager',\n",
       " 'DevOps Engineer',\n",
       " 'Innovation Manager',\n",
       " 'Talent Acquisition Specialist',\n",
       " 'Data Analyst',\n",
       " 'Financial Analyst',\n",
       " 'Research Scientist',\n",
       " 'Product Developer',\n",
       " 'Finance Manager',\n",
       " 'Supply Chain Manager',\n",
       " 'Logistics Coordinator',\n",
       " 'Business Development Manager',\n",
       " 'Lab Technician',\n",
       " 'HR Executive',\n",
       " 'IT Manager',\n",
       " 'Sales Director',\n",
       " 'CTO',\n",
       " 'Operations Director',\n",
       " 'CFO',\n",
       " 'SEO Specialist',\n",
       " 'Sales Executive',\n",
       " 'Marketing Executive']"
      ]
     },
     "metadata": {},
     "output_type": "display_data"
    }
   ],
   "source": [
    "display(df['Job_Title'].unique().to_list())"
   ]
  },
  {
   "cell_type": "code",
   "execution_count": 15,
   "id": "12db4d10",
   "metadata": {},
   "outputs": [
    {
     "data": {
      "text/html": [
       "<div><style>\n",
       ".dataframe > thead > tr,\n",
       ".dataframe > tbody > tr {\n",
       "  text-align: right;\n",
       "  white-space: pre-wrap;\n",
       "}\n",
       "</style>\n",
       "<small>shape: (2_000_000, 13)</small><table border=\"1\" class=\"dataframe\"><thead><tr><th>Unnamed: 0</th><th>Employee_ID</th><th>Full_Name</th><th>Department</th><th>Job_Title</th><th>Hire_Date</th><th>Location</th><th>Performance_Rating</th><th>Experience_Years</th><th>Status</th><th>Work_Mode</th><th>Salary_INR</th><th>Level</th></tr><tr><td>i64</td><td>str</td><td>str</td><td>str</td><td>str</td><td>date</td><td>str</td><td>i64</td><td>i64</td><td>str</td><td>str</td><td>f64</td><td>str</td></tr></thead><tbody><tr><td>0</td><td>&quot;EMP0000001&quot;</td><td>&quot;Joshua Nguyen&quot;</td><td>&quot;IT&quot;</td><td>&quot;Software Engineer&quot;</td><td>2011-08-10</td><td>&quot;Isaacland, Denmark&quot;</td><td>5</td><td>14</td><td>&quot;Resigned&quot;</td><td>&quot;On-site&quot;</td><td>1.585363e6</td><td>&quot;Employee&quot;</td></tr><tr><td>1</td><td>&quot;EMP0000002&quot;</td><td>&quot;Julie Williams&quot;</td><td>&quot;Marketing&quot;</td><td>&quot;SEO Specialist&quot;</td><td>2018-03-02</td><td>&quot;Anthonyside, Costa Rica&quot;</td><td>2</td><td>7</td><td>&quot;Active&quot;</td><td>&quot;On-site&quot;</td><td>847686.0</td><td>&quot;Employee&quot;</td></tr><tr><td>2</td><td>&quot;EMP0000003&quot;</td><td>&quot;Alyssa Martinez&quot;</td><td>&quot;HR&quot;</td><td>&quot;HR Manager&quot;</td><td>2023-03-20</td><td>&quot;Port Christinaport, Saudi Arab…</td><td>1</td><td>2</td><td>&quot;Active&quot;</td><td>&quot;On-site&quot;</td><td>1.430084e6</td><td>&quot;B-level&quot;</td></tr><tr><td>3</td><td>&quot;EMP0000004&quot;</td><td>&quot;Nicholas Valdez&quot;</td><td>&quot;IT&quot;</td><td>&quot;Software Engineer&quot;</td><td>2023-10-12</td><td>&quot;Port Shelbychester, Antigua an…</td><td>1</td><td>1</td><td>&quot;Active&quot;</td><td>&quot;On-site&quot;</td><td>990689.0</td><td>&quot;Employee&quot;</td></tr><tr><td>4</td><td>&quot;EMP0000005&quot;</td><td>&quot;Joel Hendricks&quot;</td><td>&quot;Operations&quot;</td><td>&quot;Logistics Coordinator&quot;</td><td>2024-12-09</td><td>&quot;Lake Kimberly, Palestinian Ter…</td><td>5</td><td>0</td><td>&quot;Active&quot;</td><td>&quot;On-site&quot;</td><td>535082.0</td><td>&quot;Employee&quot;</td></tr><tr><td>&hellip;</td><td>&hellip;</td><td>&hellip;</td><td>&hellip;</td><td>&hellip;</td><td>&hellip;</td><td>&hellip;</td><td>&hellip;</td><td>&hellip;</td><td>&hellip;</td><td>&hellip;</td><td>&hellip;</td><td>&hellip;</td></tr><tr><td>1999995</td><td>&quot;EMP1999996&quot;</td><td>&quot;Cody Russell&quot;</td><td>&quot;Operations&quot;</td><td>&quot;Logistics Coordinator&quot;</td><td>2010-08-31</td><td>&quot;Casefurt, Serbia&quot;</td><td>3</td><td>14</td><td>&quot;Active&quot;</td><td>&quot;Remote&quot;</td><td>657648.0</td><td>&quot;Employee&quot;</td></tr><tr><td>1999996</td><td>&quot;EMP1999997&quot;</td><td>&quot;Tracey Smith&quot;</td><td>&quot;IT&quot;</td><td>&quot;Software Engineer&quot;</td><td>2021-05-07</td><td>&quot;Dannyport, Kuwait&quot;</td><td>3</td><td>4</td><td>&quot;Active&quot;</td><td>&quot;On-site&quot;</td><td>1.030109e6</td><td>&quot;Employee&quot;</td></tr><tr><td>1999997</td><td>&quot;EMP1999998&quot;</td><td>&quot;Tracy Lee&quot;</td><td>&quot;Sales&quot;</td><td>&quot;Business Development Manager&quot;</td><td>2024-05-29</td><td>&quot;Craighaven, Nigeria&quot;</td><td>5</td><td>1</td><td>&quot;Active&quot;</td><td>&quot;Remote&quot;</td><td>1.313085e6</td><td>&quot;B-level&quot;</td></tr><tr><td>1999998</td><td>&quot;EMP1999999&quot;</td><td>&quot;Michael Roberson&quot;</td><td>&quot;IT&quot;</td><td>&quot;Software Engineer&quot;</td><td>2023-02-14</td><td>&quot;Jonathanmouth, Djibouti&quot;</td><td>4</td><td>2</td><td>&quot;Retired&quot;</td><td>&quot;On-site&quot;</td><td>1.479727e6</td><td>&quot;Employee&quot;</td></tr><tr><td>1999999</td><td>&quot;EMP2000000&quot;</td><td>&quot;Angela Lambert&quot;</td><td>&quot;HR&quot;</td><td>&quot;Talent Acquisition Specialist&quot;</td><td>2020-11-11</td><td>&quot;Morganchester, Canada&quot;</td><td>1</td><td>4</td><td>&quot;Active&quot;</td><td>&quot;Remote&quot;</td><td>993718.0</td><td>&quot;Employee&quot;</td></tr></tbody></table></div>"
      ],
      "text/plain": [
       "shape: (2_000_000, 13)\n",
       "┌────────────┬───────────┬───────────┬───────────┬───┬──────────┬───────────┬───────────┬──────────┐\n",
       "│ Unnamed: 0 ┆ Employee_ ┆ Full_Name ┆ Departmen ┆ … ┆ Status   ┆ Work_Mode ┆ Salary_IN ┆ Level    │\n",
       "│ ---        ┆ ID        ┆ ---       ┆ t         ┆   ┆ ---      ┆ ---       ┆ R         ┆ ---      │\n",
       "│ i64        ┆ ---       ┆ str       ┆ ---       ┆   ┆ str      ┆ str       ┆ ---       ┆ str      │\n",
       "│            ┆ str       ┆           ┆ str       ┆   ┆          ┆           ┆ f64       ┆          │\n",
       "╞════════════╪═══════════╪═══════════╪═══════════╪═══╪══════════╪═══════════╪═══════════╪══════════╡\n",
       "│ 0          ┆ EMP000000 ┆ Joshua    ┆ IT        ┆ … ┆ Resigned ┆ On-site   ┆ 1.585363e ┆ Employee │\n",
       "│            ┆ 1         ┆ Nguyen    ┆           ┆   ┆          ┆           ┆ 6         ┆          │\n",
       "│ 1          ┆ EMP000000 ┆ Julie     ┆ Marketing ┆ … ┆ Active   ┆ On-site   ┆ 847686.0  ┆ Employee │\n",
       "│            ┆ 2         ┆ Williams  ┆           ┆   ┆          ┆           ┆           ┆          │\n",
       "│ 2          ┆ EMP000000 ┆ Alyssa    ┆ HR        ┆ … ┆ Active   ┆ On-site   ┆ 1.430084e ┆ B-level  │\n",
       "│            ┆ 3         ┆ Martinez  ┆           ┆   ┆          ┆           ┆ 6         ┆          │\n",
       "│ 3          ┆ EMP000000 ┆ Nicholas  ┆ IT        ┆ … ┆ Active   ┆ On-site   ┆ 990689.0  ┆ Employee │\n",
       "│            ┆ 4         ┆ Valdez    ┆           ┆   ┆          ┆           ┆           ┆          │\n",
       "│ 4          ┆ EMP000000 ┆ Joel      ┆ Operation ┆ … ┆ Active   ┆ On-site   ┆ 535082.0  ┆ Employee │\n",
       "│            ┆ 5         ┆ Hendricks ┆ s         ┆   ┆          ┆           ┆           ┆          │\n",
       "│ …          ┆ …         ┆ …         ┆ …         ┆ … ┆ …        ┆ …         ┆ …         ┆ …        │\n",
       "│ 1999995    ┆ EMP199999 ┆ Cody      ┆ Operation ┆ … ┆ Active   ┆ Remote    ┆ 657648.0  ┆ Employee │\n",
       "│            ┆ 6         ┆ Russell   ┆ s         ┆   ┆          ┆           ┆           ┆          │\n",
       "│ 1999996    ┆ EMP199999 ┆ Tracey    ┆ IT        ┆ … ┆ Active   ┆ On-site   ┆ 1.030109e ┆ Employee │\n",
       "│            ┆ 7         ┆ Smith     ┆           ┆   ┆          ┆           ┆ 6         ┆          │\n",
       "│ 1999997    ┆ EMP199999 ┆ Tracy Lee ┆ Sales     ┆ … ┆ Active   ┆ Remote    ┆ 1.313085e ┆ B-level  │\n",
       "│            ┆ 8         ┆           ┆           ┆   ┆          ┆           ┆ 6         ┆          │\n",
       "│ 1999998    ┆ EMP199999 ┆ Michael   ┆ IT        ┆ … ┆ Retired  ┆ On-site   ┆ 1.479727e ┆ Employee │\n",
       "│            ┆ 9         ┆ Roberson  ┆           ┆   ┆          ┆           ┆ 6         ┆          │\n",
       "│ 1999999    ┆ EMP200000 ┆ Angela    ┆ HR        ┆ … ┆ Active   ┆ Remote    ┆ 993718.0  ┆ Employee │\n",
       "│            ┆ 0         ┆ Lambert   ┆           ┆   ┆          ┆           ┆           ┆          │\n",
       "└────────────┴───────────┴───────────┴───────────┴───┴──────────┴───────────┴───────────┴──────────┘"
      ]
     },
     "metadata": {},
     "output_type": "display_data"
    }
   ],
   "source": [
    "# Define job levels based on common corporate hierarchy\n",
    "level = {\n",
    "    'C-level': ['CTO', 'CFO', 'CEO'],\n",
    "    'V-level': ['VP'],\n",
    "    'D-level': ['Director'],\n",
    "    'B-level': ['Manager'],\n",
    "    'Employee': ['Specialist', 'Engineer', 'Accountant', 'Technician', 'Scientist', 'Executive', 'Analyst', 'Developer', 'Coordinator', 'Strategist']\n",
    "}\n",
    "\n",
    "CLevel_cond = pl.col('Job_Title').str.contains('|'.join(level['C-level']))\n",
    "VLevel_cond = pl.col('Job_Title').str.contains('|'.join(level['V-level']))\n",
    "DLevel_cond = pl.col('Job_Title').str.contains('|'.join(level['D-level']))\n",
    "BLevel_cond = pl.col('Job_Title').str.contains('|'.join(level['B-level']))\n",
    "Employee_cond = pl.col('Job_Title').str.contains('|'.join(level['Employee']))\n",
    "\n",
    "df_with_level = df.with_columns(\n",
    "    pl.when(CLevel_cond).then(pl.lit('C-level'))\n",
    "    .when(VLevel_cond).then(pl.lit('V-level'))\n",
    "    .when(DLevel_cond).then(pl.lit('D-level'))\n",
    "    .when(BLevel_cond).then(pl.lit('B-level'))\n",
    "    .otherwise(pl.lit('Employee'))\n",
    "    .alias('Level')\n",
    ")\n",
    "display(df_with_level)"
   ]
  },
  {
   "cell_type": "code",
   "execution_count": 16,
   "id": "2906f890",
   "metadata": {},
   "outputs": [
    {
     "data": {
      "text/html": [
       "<div><style>\n",
       ".dataframe > thead > tr,\n",
       ".dataframe > tbody > tr {\n",
       "  text-align: right;\n",
       "  white-space: pre-wrap;\n",
       "}\n",
       "</style>\n",
       "<small>shape: (2_000_000, 17)</small><table border=\"1\" class=\"dataframe\"><thead><tr><th>Unnamed: 0</th><th>Employee_ID</th><th>Full_Name</th><th>Department</th><th>Job_Title</th><th>Hire_Date</th><th>Location</th><th>Performance_Rating</th><th>Experience_Years</th><th>Status</th><th>Work_Mode</th><th>Salary_INR</th><th>Level</th><th>Hire_Year</th><th>Hire_Month</th><th>Hire_Weekday</th><th>Salary_USD</th></tr><tr><td>i64</td><td>str</td><td>str</td><td>str</td><td>str</td><td>date</td><td>str</td><td>i64</td><td>i64</td><td>str</td><td>str</td><td>f64</td><td>str</td><td>i32</td><td>i8</td><td>i8</td><td>f64</td></tr></thead><tbody><tr><td>0</td><td>&quot;EMP0000001&quot;</td><td>&quot;Joshua Nguyen&quot;</td><td>&quot;IT&quot;</td><td>&quot;Software Engineer&quot;</td><td>2011-08-10</td><td>&quot;Isaacland, Denmark&quot;</td><td>5</td><td>14</td><td>&quot;Resigned&quot;</td><td>&quot;On-site&quot;</td><td>1.585363e6</td><td>&quot;Employee&quot;</td><td>2011</td><td>8</td><td>3</td><td>18091.555403</td></tr><tr><td>1</td><td>&quot;EMP0000002&quot;</td><td>&quot;Julie Williams&quot;</td><td>&quot;Marketing&quot;</td><td>&quot;SEO Specialist&quot;</td><td>2018-03-02</td><td>&quot;Anthonyside, Costa Rica&quot;</td><td>2</td><td>7</td><td>&quot;Active&quot;</td><td>&quot;On-site&quot;</td><td>847686.0</td><td>&quot;Employee&quot;</td><td>2018</td><td>3</td><td>5</td><td>9673.46799</td></tr><tr><td>2</td><td>&quot;EMP0000003&quot;</td><td>&quot;Alyssa Martinez&quot;</td><td>&quot;HR&quot;</td><td>&quot;HR Manager&quot;</td><td>2023-03-20</td><td>&quot;Port Christinaport, Saudi Arab…</td><td>1</td><td>2</td><td>&quot;Active&quot;</td><td>&quot;On-site&quot;</td><td>1.430084e6</td><td>&quot;B-level&quot;</td><td>2023</td><td>3</td><td>1</td><td>16319.570923</td></tr><tr><td>3</td><td>&quot;EMP0000004&quot;</td><td>&quot;Nicholas Valdez&quot;</td><td>&quot;IT&quot;</td><td>&quot;Software Engineer&quot;</td><td>2023-10-12</td><td>&quot;Port Shelbychester, Antigua an…</td><td>1</td><td>1</td><td>&quot;Active&quot;</td><td>&quot;On-site&quot;</td><td>990689.0</td><td>&quot;Employee&quot;</td><td>2023</td><td>10</td><td>4</td><td>11305.36346</td></tr><tr><td>4</td><td>&quot;EMP0000005&quot;</td><td>&quot;Joel Hendricks&quot;</td><td>&quot;Operations&quot;</td><td>&quot;Logistics Coordinator&quot;</td><td>2024-12-09</td><td>&quot;Lake Kimberly, Palestinian Ter…</td><td>5</td><td>0</td><td>&quot;Active&quot;</td><td>&quot;On-site&quot;</td><td>535082.0</td><td>&quot;Employee&quot;</td><td>2024</td><td>12</td><td>1</td><td>6106.150862</td></tr><tr><td>&hellip;</td><td>&hellip;</td><td>&hellip;</td><td>&hellip;</td><td>&hellip;</td><td>&hellip;</td><td>&hellip;</td><td>&hellip;</td><td>&hellip;</td><td>&hellip;</td><td>&hellip;</td><td>&hellip;</td><td>&hellip;</td><td>&hellip;</td><td>&hellip;</td><td>&hellip;</td><td>&hellip;</td></tr><tr><td>1999995</td><td>&quot;EMP1999996&quot;</td><td>&quot;Cody Russell&quot;</td><td>&quot;Operations&quot;</td><td>&quot;Logistics Coordinator&quot;</td><td>2010-08-31</td><td>&quot;Casefurt, Serbia&quot;</td><td>3</td><td>14</td><td>&quot;Active&quot;</td><td>&quot;Remote&quot;</td><td>657648.0</td><td>&quot;Employee&quot;</td><td>2010</td><td>8</td><td>2</td><td>7504.827114</td></tr><tr><td>1999996</td><td>&quot;EMP1999997&quot;</td><td>&quot;Tracey Smith&quot;</td><td>&quot;IT&quot;</td><td>&quot;Software Engineer&quot;</td><td>2021-05-07</td><td>&quot;Dannyport, Kuwait&quot;</td><td>3</td><td>4</td><td>&quot;Active&quot;</td><td>&quot;On-site&quot;</td><td>1.030109e6</td><td>&quot;Employee&quot;</td><td>2021</td><td>5</td><td>5</td><td>11755.209403</td></tr><tr><td>1999997</td><td>&quot;EMP1999998&quot;</td><td>&quot;Tracy Lee&quot;</td><td>&quot;Sales&quot;</td><td>&quot;Business Development Manager&quot;</td><td>2024-05-29</td><td>&quot;Craighaven, Nigeria&quot;</td><td>5</td><td>1</td><td>&quot;Active&quot;</td><td>&quot;Remote&quot;</td><td>1.313085e6</td><td>&quot;B-level&quot;</td><td>2024</td><td>5</td><td>3</td><td>14984.423143</td></tr><tr><td>1999998</td><td>&quot;EMP1999999&quot;</td><td>&quot;Michael Roberson&quot;</td><td>&quot;IT&quot;</td><td>&quot;Software Engineer&quot;</td><td>2023-02-14</td><td>&quot;Jonathanmouth, Djibouti&quot;</td><td>4</td><td>2</td><td>&quot;Retired&quot;</td><td>&quot;On-site&quot;</td><td>1.479727e6</td><td>&quot;Employee&quot;</td><td>2023</td><td>2</td><td>2</td><td>16886.077827</td></tr><tr><td>1999999</td><td>&quot;EMP2000000&quot;</td><td>&quot;Angela Lambert&quot;</td><td>&quot;HR&quot;</td><td>&quot;Talent Acquisition Specialist&quot;</td><td>2020-11-11</td><td>&quot;Morganchester, Canada&quot;</td><td>1</td><td>4</td><td>&quot;Active&quot;</td><td>&quot;Remote&quot;</td><td>993718.0</td><td>&quot;Employee&quot;</td><td>2020</td><td>11</td><td>3</td><td>11339.929248</td></tr></tbody></table></div>"
      ],
      "text/plain": [
       "shape: (2_000_000, 17)\n",
       "┌───────────┬───────────┬───────────┬───────────┬───┬───────────┬───────────┬───────────┬──────────┐\n",
       "│ Unnamed:  ┆ Employee_ ┆ Full_Name ┆ Departmen ┆ … ┆ Hire_Year ┆ Hire_Mont ┆ Hire_Week ┆ Salary_U │\n",
       "│ 0         ┆ ID        ┆ ---       ┆ t         ┆   ┆ ---       ┆ h         ┆ day       ┆ SD       │\n",
       "│ ---       ┆ ---       ┆ str       ┆ ---       ┆   ┆ i32       ┆ ---       ┆ ---       ┆ ---      │\n",
       "│ i64       ┆ str       ┆           ┆ str       ┆   ┆           ┆ i8        ┆ i8        ┆ f64      │\n",
       "╞═══════════╪═══════════╪═══════════╪═══════════╪═══╪═══════════╪═══════════╪═══════════╪══════════╡\n",
       "│ 0         ┆ EMP000000 ┆ Joshua    ┆ IT        ┆ … ┆ 2011      ┆ 8         ┆ 3         ┆ 18091.55 │\n",
       "│           ┆ 1         ┆ Nguyen    ┆           ┆   ┆           ┆           ┆           ┆ 5403     │\n",
       "│ 1         ┆ EMP000000 ┆ Julie     ┆ Marketing ┆ … ┆ 2018      ┆ 3         ┆ 5         ┆ 9673.467 │\n",
       "│           ┆ 2         ┆ Williams  ┆           ┆   ┆           ┆           ┆           ┆ 99       │\n",
       "│ 2         ┆ EMP000000 ┆ Alyssa    ┆ HR        ┆ … ┆ 2023      ┆ 3         ┆ 1         ┆ 16319.57 │\n",
       "│           ┆ 3         ┆ Martinez  ┆           ┆   ┆           ┆           ┆           ┆ 0923     │\n",
       "│ 3         ┆ EMP000000 ┆ Nicholas  ┆ IT        ┆ … ┆ 2023      ┆ 10        ┆ 4         ┆ 11305.36 │\n",
       "│           ┆ 4         ┆ Valdez    ┆           ┆   ┆           ┆           ┆           ┆ 346      │\n",
       "│ 4         ┆ EMP000000 ┆ Joel      ┆ Operation ┆ … ┆ 2024      ┆ 12        ┆ 1         ┆ 6106.150 │\n",
       "│           ┆ 5         ┆ Hendricks ┆ s         ┆   ┆           ┆           ┆           ┆ 862      │\n",
       "│ …         ┆ …         ┆ …         ┆ …         ┆ … ┆ …         ┆ …         ┆ …         ┆ …        │\n",
       "│ 1999995   ┆ EMP199999 ┆ Cody      ┆ Operation ┆ … ┆ 2010      ┆ 8         ┆ 2         ┆ 7504.827 │\n",
       "│           ┆ 6         ┆ Russell   ┆ s         ┆   ┆           ┆           ┆           ┆ 114      │\n",
       "│ 1999996   ┆ EMP199999 ┆ Tracey    ┆ IT        ┆ … ┆ 2021      ┆ 5         ┆ 5         ┆ 11755.20 │\n",
       "│           ┆ 7         ┆ Smith     ┆           ┆   ┆           ┆           ┆           ┆ 9403     │\n",
       "│ 1999997   ┆ EMP199999 ┆ Tracy Lee ┆ Sales     ┆ … ┆ 2024      ┆ 5         ┆ 3         ┆ 14984.42 │\n",
       "│           ┆ 8         ┆           ┆           ┆   ┆           ┆           ┆           ┆ 3143     │\n",
       "│ 1999998   ┆ EMP199999 ┆ Michael   ┆ IT        ┆ … ┆ 2023      ┆ 2         ┆ 2         ┆ 16886.07 │\n",
       "│           ┆ 9         ┆ Roberson  ┆           ┆   ┆           ┆           ┆           ┆ 7827     │\n",
       "│ 1999999   ┆ EMP200000 ┆ Angela    ┆ HR        ┆ … ┆ 2020      ┆ 11        ┆ 3         ┆ 11339.92 │\n",
       "│           ┆ 0         ┆ Lambert   ┆           ┆   ┆           ┆           ┆           ┆ 9248     │\n",
       "└───────────┴───────────┴───────────┴───────────┴───┴───────────┴───────────┴───────────┴──────────┘"
      ]
     },
     "metadata": {},
     "output_type": "display_data"
    }
   ],
   "source": [
    "df_with_level = df_with_level.with_columns(\n",
    "    pl.col('Hire_Date').dt.year().alias('Hire_Year'),\n",
    "    pl.col('Hire_Date').dt.month().alias('Hire_Month'),\n",
    "    pl.col('Hire_Date').dt.weekday().alias('Hire_Weekday'),\n",
    "    (pl.col('Salary_INR')/n).alias('Salary_USD')\n",
    ")\n",
    "display(df_with_level)"
   ]
  },
  {
   "cell_type": "markdown",
   "id": "070c0f0c",
   "metadata": {},
   "source": [
    "There are remarkable value in various field:\n",
    "1) Department: Finance, IT, Operations, HR, Marketing, Sales, and R&D.\n",
    "2) Levels of management: Spreading from C-level to Employee."
   ]
  },
  {
   "cell_type": "code",
   "execution_count": null,
   "id": "2b4740d8",
   "metadata": {},
   "outputs": [],
   "source": [
    "# Export to csv\n",
    "#df_with_level.write_csv('HR_Data_MNC_with_levels.csv')"
   ]
  },
  {
   "cell_type": "code",
   "execution_count": null,
   "id": "c8bc8870",
   "metadata": {},
   "outputs": [],
   "source": []
  },
  {
   "cell_type": "markdown",
   "id": "09cd7c13",
   "metadata": {},
   "source": [
    "5. ANALYSIS:"
   ]
  },
  {
   "cell_type": "markdown",
   "id": "a943dddd",
   "metadata": {},
   "source": [
    "6. SHARING & ACT:"
   ]
  }
 ],
 "metadata": {
  "kernelspec": {
   "display_name": "Macenv",
   "language": "python",
   "name": "python3"
  },
  "language_info": {
   "codemirror_mode": {
    "name": "ipython",
    "version": 3
   },
   "file_extension": ".py",
   "mimetype": "text/x-python",
   "name": "python",
   "nbconvert_exporter": "python",
   "pygments_lexer": "ipython3",
   "version": "3.13.0"
  }
 },
 "nbformat": 4,
 "nbformat_minor": 5
}
